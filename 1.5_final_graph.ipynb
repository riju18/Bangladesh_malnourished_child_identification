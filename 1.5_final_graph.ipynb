{
 "cells": [
  {
   "cell_type": "code",
   "execution_count": 1,
   "metadata": {},
   "outputs": [],
   "source": [
    "import pandas as pd\n",
    "import numpy as np\n",
    "import matplotlib.pyplot as plt\n",
    "import seaborn as sns\n",
    "from sklearn.model_selection import train_test_split\n",
    "from sklearn.preprocessing import StandardScaler\n",
    "from sklearn.linear_model import LogisticRegression\n",
    "from sklearn.metrics import confusion_matrix,classification_report,accuracy_score\n",
    "%matplotlib inline"
   ]
  },
  {
   "cell_type": "code",
   "execution_count": 2,
   "metadata": {},
   "outputs": [],
   "source": [
    "df = pd.read_csv('finalChildMalnutrition.csv', index_col = 0 )"
   ]
  },
  {
   "cell_type": "code",
   "execution_count": 3,
   "metadata": {},
   "outputs": [],
   "source": [
    "df = df.fillna(df[['fever','Mother_BMI']].mean())\n",
    "df = df.fillna(df[['diar','Father_Edu','currently_working_mot']].mean())"
   ]
  },
  {
   "cell_type": "code",
   "execution_count": 4,
   "metadata": {},
   "outputs": [],
   "source": [
    "#df['Division'] = df['Division'].map({1:'barisal',2:'chittagong',3:'dhaka',4:'khulna',5:'Rajshahi',6:'Rangpur',7:'sylhet'})"
   ]
  },
  {
   "cell_type": "code",
   "execution_count": 5,
   "metadata": {},
   "outputs": [],
   "source": [
    "#df['Mother_edu'] = df['Mother_edu'].map({0:'no', 1:'yes'})"
   ]
  },
  {
   "cell_type": "code",
   "execution_count": 6,
   "metadata": {},
   "outputs": [],
   "source": [
    "#df['Breastfeeding'] = df['Breastfeeding'].map({0:'no', 1:'yes'})"
   ]
  },
  {
   "cell_type": "code",
   "execution_count": 7,
   "metadata": {},
   "outputs": [],
   "source": [
    "#df['currently_working_mot'] = df['currently_working_mot'].map({0:'no', 1:'yes'})"
   ]
  },
  {
   "cell_type": "code",
   "execution_count": 8,
   "metadata": {},
   "outputs": [],
   "source": [
    "#df['wealth_index_cat'] = df['wealth_index_cat'].map({0:'no', 1:'yes'})"
   ]
  },
  {
   "cell_type": "code",
   "execution_count": 9,
   "metadata": {},
   "outputs": [
    {
     "data": {
      "text/html": [
       "<div>\n",
       "<style scoped>\n",
       "    .dataframe tbody tr th:only-of-type {\n",
       "        vertical-align: middle;\n",
       "    }\n",
       "\n",
       "    .dataframe tbody tr th {\n",
       "        vertical-align: top;\n",
       "    }\n",
       "\n",
       "    .dataframe thead th {\n",
       "        text-align: right;\n",
       "    }\n",
       "</style>\n",
       "<table border=\"1\" class=\"dataframe\">\n",
       "  <thead>\n",
       "    <tr style=\"text-align: right;\">\n",
       "      <th></th>\n",
       "      <th>Division</th>\n",
       "      <th>Age at 1st Birth</th>\n",
       "      <th>Child Age</th>\n",
       "      <th>stunting</th>\n",
       "      <th>underweight</th>\n",
       "      <th>wasting</th>\n",
       "      <th>diar</th>\n",
       "      <th>fever</th>\n",
       "      <th>ari</th>\n",
       "      <th>Mother_BMI</th>\n",
       "      <th>Birth_Order</th>\n",
       "      <th>Mother_edu</th>\n",
       "      <th>wealth_index_cat</th>\n",
       "      <th>Father_Edu</th>\n",
       "      <th>residence</th>\n",
       "      <th>sex</th>\n",
       "      <th>currently_working_mot</th>\n",
       "      <th>Breastfeeding</th>\n",
       "      <th>household_no</th>\n",
       "    </tr>\n",
       "  </thead>\n",
       "  <tbody>\n",
       "    <tr>\n",
       "      <th>0</th>\n",
       "      <td>1</td>\n",
       "      <td>16</td>\n",
       "      <td>13</td>\n",
       "      <td>0</td>\n",
       "      <td>1</td>\n",
       "      <td>1</td>\n",
       "      <td>0.0</td>\n",
       "      <td>1.0</td>\n",
       "      <td>1</td>\n",
       "      <td>20.96</td>\n",
       "      <td>2</td>\n",
       "      <td>0</td>\n",
       "      <td>0</td>\n",
       "      <td>0.0</td>\n",
       "      <td>1</td>\n",
       "      <td>1</td>\n",
       "      <td>0.0</td>\n",
       "      <td>1</td>\n",
       "      <td>6</td>\n",
       "    </tr>\n",
       "    <tr>\n",
       "      <th>1</th>\n",
       "      <td>1</td>\n",
       "      <td>18</td>\n",
       "      <td>47</td>\n",
       "      <td>0</td>\n",
       "      <td>1</td>\n",
       "      <td>1</td>\n",
       "      <td>0.0</td>\n",
       "      <td>1.0</td>\n",
       "      <td>0</td>\n",
       "      <td>19.71</td>\n",
       "      <td>2</td>\n",
       "      <td>0</td>\n",
       "      <td>0</td>\n",
       "      <td>0.0</td>\n",
       "      <td>1</td>\n",
       "      <td>1</td>\n",
       "      <td>0.0</td>\n",
       "      <td>0</td>\n",
       "      <td>5</td>\n",
       "    </tr>\n",
       "    <tr>\n",
       "      <th>2</th>\n",
       "      <td>1</td>\n",
       "      <td>16</td>\n",
       "      <td>23</td>\n",
       "      <td>0</td>\n",
       "      <td>0</td>\n",
       "      <td>0</td>\n",
       "      <td>0.0</td>\n",
       "      <td>0.0</td>\n",
       "      <td>0</td>\n",
       "      <td>20.66</td>\n",
       "      <td>3</td>\n",
       "      <td>0</td>\n",
       "      <td>0</td>\n",
       "      <td>0.0</td>\n",
       "      <td>1</td>\n",
       "      <td>1</td>\n",
       "      <td>1.0</td>\n",
       "      <td>1</td>\n",
       "      <td>5</td>\n",
       "    </tr>\n",
       "    <tr>\n",
       "      <th>3</th>\n",
       "      <td>1</td>\n",
       "      <td>21</td>\n",
       "      <td>11</td>\n",
       "      <td>0</td>\n",
       "      <td>0</td>\n",
       "      <td>0</td>\n",
       "      <td>0.0</td>\n",
       "      <td>0.0</td>\n",
       "      <td>0</td>\n",
       "      <td>18.41</td>\n",
       "      <td>1</td>\n",
       "      <td>0</td>\n",
       "      <td>0</td>\n",
       "      <td>0.0</td>\n",
       "      <td>1</td>\n",
       "      <td>1</td>\n",
       "      <td>0.0</td>\n",
       "      <td>1</td>\n",
       "      <td>2</td>\n",
       "    </tr>\n",
       "    <tr>\n",
       "      <th>4</th>\n",
       "      <td>1</td>\n",
       "      <td>15</td>\n",
       "      <td>51</td>\n",
       "      <td>1</td>\n",
       "      <td>1</td>\n",
       "      <td>0</td>\n",
       "      <td>0.0</td>\n",
       "      <td>1.0</td>\n",
       "      <td>0</td>\n",
       "      <td>19.47</td>\n",
       "      <td>3</td>\n",
       "      <td>0</td>\n",
       "      <td>1</td>\n",
       "      <td>0.0</td>\n",
       "      <td>1</td>\n",
       "      <td>1</td>\n",
       "      <td>1.0</td>\n",
       "      <td>0</td>\n",
       "      <td>4</td>\n",
       "    </tr>\n",
       "  </tbody>\n",
       "</table>\n",
       "</div>"
      ],
      "text/plain": [
       "   Division  Age at 1st Birth  Child Age  stunting  underweight  wasting  \\\n",
       "0         1                16         13         0            1        1   \n",
       "1         1                18         47         0            1        1   \n",
       "2         1                16         23         0            0        0   \n",
       "3         1                21         11         0            0        0   \n",
       "4         1                15         51         1            1        0   \n",
       "\n",
       "   diar  fever  ari  Mother_BMI  Birth_Order  Mother_edu  wealth_index_cat  \\\n",
       "0   0.0    1.0    1       20.96            2           0                 0   \n",
       "1   0.0    1.0    0       19.71            2           0                 0   \n",
       "2   0.0    0.0    0       20.66            3           0                 0   \n",
       "3   0.0    0.0    0       18.41            1           0                 0   \n",
       "4   0.0    1.0    0       19.47            3           0                 1   \n",
       "\n",
       "   Father_Edu  residence  sex  currently_working_mot  Breastfeeding  \\\n",
       "0         0.0          1    1                    0.0              1   \n",
       "1         0.0          1    1                    0.0              0   \n",
       "2         0.0          1    1                    1.0              1   \n",
       "3         0.0          1    1                    0.0              1   \n",
       "4         0.0          1    1                    1.0              0   \n",
       "\n",
       "   household_no  \n",
       "0             6  \n",
       "1             5  \n",
       "2             5  \n",
       "3             2  \n",
       "4             4  "
      ]
     },
     "execution_count": 9,
     "metadata": {},
     "output_type": "execute_result"
    }
   ],
   "source": [
    "df.head()"
   ]
  },
  {
   "cell_type": "code",
   "execution_count": 10,
   "metadata": {},
   "outputs": [
    {
     "name": "stdout",
     "output_type": "stream",
     "text": [
      "<class 'pandas.core.frame.DataFrame'>\n",
      "Int64Index: 6965 entries, 0 to 6964\n",
      "Data columns (total 19 columns):\n",
      "Division                 6965 non-null int64\n",
      "Age at 1st Birth         6965 non-null int64\n",
      "Child Age                6965 non-null int64\n",
      "stunting                 6965 non-null int64\n",
      "underweight              6965 non-null int64\n",
      "wasting                  6965 non-null int64\n",
      "diar                     6965 non-null float64\n",
      "fever                    6965 non-null float64\n",
      "ari                      6965 non-null int64\n",
      "Mother_BMI               6965 non-null float64\n",
      "Birth_Order              6965 non-null int64\n",
      "Mother_edu               6965 non-null int64\n",
      "wealth_index_cat         6965 non-null int64\n",
      "Father_Edu               6965 non-null float64\n",
      "residence                6965 non-null int64\n",
      "sex                      6965 non-null int64\n",
      "currently_working_mot    6965 non-null float64\n",
      "Breastfeeding            6965 non-null int64\n",
      "household_no             6965 non-null int64\n",
      "dtypes: float64(5), int64(14)\n",
      "memory usage: 1.1 MB\n"
     ]
    }
   ],
   "source": [
    "df.info()"
   ]
  },
  {
   "cell_type": "code",
   "execution_count": 11,
   "metadata": {},
   "outputs": [],
   "source": [
    "# 1. accuracy\n",
    "# ---------"
   ]
  },
  {
   "cell_type": "code",
   "execution_count": 12,
   "metadata": {},
   "outputs": [],
   "source": [
    "# -----------\n",
    "# stunting  |\n",
    "# -----------"
   ]
  },
  {
   "cell_type": "code",
   "execution_count": 11,
   "metadata": {},
   "outputs": [],
   "source": [
    "allAccuStun = pd.DataFrame({\n",
    "    'algo'   : ['DecisionTreeClassifier','svm','naive Bayes','random forest','logistic regression', 'ANN'],\n",
    "    'accuracy(stunting) %' : [57.376, 65.543, 64.018, 64.627, 65.183, 64.275]\n",
    "})"
   ]
  },
  {
   "cell_type": "code",
   "execution_count": 12,
   "metadata": {},
   "outputs": [
    {
     "data": {
      "text/html": [
       "<div>\n",
       "<style scoped>\n",
       "    .dataframe tbody tr th:only-of-type {\n",
       "        vertical-align: middle;\n",
       "    }\n",
       "\n",
       "    .dataframe tbody tr th {\n",
       "        vertical-align: top;\n",
       "    }\n",
       "\n",
       "    .dataframe thead th {\n",
       "        text-align: right;\n",
       "    }\n",
       "</style>\n",
       "<table border=\"1\" class=\"dataframe\">\n",
       "  <thead>\n",
       "    <tr style=\"text-align: right;\">\n",
       "      <th></th>\n",
       "      <th>algo</th>\n",
       "      <th>accuracy(stunting) %</th>\n",
       "    </tr>\n",
       "  </thead>\n",
       "  <tbody>\n",
       "    <tr>\n",
       "      <th>0</th>\n",
       "      <td>DecisionTreeClassifier</td>\n",
       "      <td>57.376</td>\n",
       "    </tr>\n",
       "    <tr>\n",
       "      <th>1</th>\n",
       "      <td>svm</td>\n",
       "      <td>65.543</td>\n",
       "    </tr>\n",
       "    <tr>\n",
       "      <th>2</th>\n",
       "      <td>naive Bayes</td>\n",
       "      <td>64.018</td>\n",
       "    </tr>\n",
       "    <tr>\n",
       "      <th>3</th>\n",
       "      <td>random forest</td>\n",
       "      <td>64.627</td>\n",
       "    </tr>\n",
       "    <tr>\n",
       "      <th>4</th>\n",
       "      <td>logistic regression</td>\n",
       "      <td>65.183</td>\n",
       "    </tr>\n",
       "    <tr>\n",
       "      <th>5</th>\n",
       "      <td>ANN</td>\n",
       "      <td>64.275</td>\n",
       "    </tr>\n",
       "  </tbody>\n",
       "</table>\n",
       "</div>"
      ],
      "text/plain": [
       "                     algo  accuracy(stunting) %\n",
       "0  DecisionTreeClassifier                57.376\n",
       "1                     svm                65.543\n",
       "2             naive Bayes                64.018\n",
       "3           random forest                64.627\n",
       "4     logistic regression                65.183\n",
       "5                     ANN                64.275"
      ]
     },
     "execution_count": 12,
     "metadata": {},
     "output_type": "execute_result"
    }
   ],
   "source": [
    "allAccuStun"
   ]
  },
  {
   "cell_type": "code",
   "execution_count": 13,
   "metadata": {},
   "outputs": [
    {
     "data": {
      "text/plain": [
       "Text(0.5, 1.0, 'all stunting accuracy comparison:\\n--------------------------------------------\\n')"
      ]
     },
     "execution_count": 13,
     "metadata": {},
     "output_type": "execute_result"
    },
    {
     "data": {
      "image/png": "[encoded data removed]",
      "text/plain": [
       "<Figure size 576x360 with 1 Axes>"
      ]
     },
     "metadata": {
      "needs_background": "light"
     },
     "output_type": "display_data"
    }
   ],
   "source": [
    "plt.figure(figsize=(8,5))\n",
    "barplot = sns.barplot(x = 'algo', y = 'accuracy(stunting) %', data = allAccuStun)\n",
    "plt.title('all stunting accuracy comparison:\\n--------------------------------------------\\n')"
   ]
  },
  {
   "cell_type": "code",
   "execution_count": 19,
   "metadata": {},
   "outputs": [],
   "source": [
    "# -------------\n",
    "# underweight  |\n",
    "# -------------"
   ]
  },
  {
   "cell_type": "code",
   "execution_count": 14,
   "metadata": {},
   "outputs": [],
   "source": [
    "allAccuUnder = pd.DataFrame({\n",
    "    'algo'   : ['DecisionTreeClassifier','svm','naive Bayes','random forest','logistic regression', 'ANN'],\n",
    "    'accuracy(underweight) %' : [59.690, 68.198, 64.681, 65.649, 68.341, 69.1535]\n",
    "})"
   ]
  },
  {
   "cell_type": "code",
   "execution_count": 15,
   "metadata": {},
   "outputs": [
    {
     "data": {
      "text/html": [
       "<div>\n",
       "<style scoped>\n",
       "    .dataframe tbody tr th:only-of-type {\n",
       "        vertical-align: middle;\n",
       "    }\n",
       "\n",
       "    .dataframe tbody tr th {\n",
       "        vertical-align: top;\n",
       "    }\n",
       "\n",
       "    .dataframe thead th {\n",
       "        text-align: right;\n",
       "    }\n",
       "</style>\n",
       "<table border=\"1\" class=\"dataframe\">\n",
       "  <thead>\n",
       "    <tr style=\"text-align: right;\">\n",
       "      <th></th>\n",
       "      <th>algo</th>\n",
       "      <th>accuracy(underweight) %</th>\n",
       "    </tr>\n",
       "  </thead>\n",
       "  <tbody>\n",
       "    <tr>\n",
       "      <th>0</th>\n",
       "      <td>DecisionTreeClassifier</td>\n",
       "      <td>59.6900</td>\n",
       "    </tr>\n",
       "    <tr>\n",
       "      <th>1</th>\n",
       "      <td>svm</td>\n",
       "      <td>68.1980</td>\n",
       "    </tr>\n",
       "    <tr>\n",
       "      <th>2</th>\n",
       "      <td>naive Bayes</td>\n",
       "      <td>64.6810</td>\n",
       "    </tr>\n",
       "    <tr>\n",
       "      <th>3</th>\n",
       "      <td>random forest</td>\n",
       "      <td>65.6490</td>\n",
       "    </tr>\n",
       "    <tr>\n",
       "      <th>4</th>\n",
       "      <td>logistic regression</td>\n",
       "      <td>68.3410</td>\n",
       "    </tr>\n",
       "    <tr>\n",
       "      <th>5</th>\n",
       "      <td>ANN</td>\n",
       "      <td>69.1535</td>\n",
       "    </tr>\n",
       "  </tbody>\n",
       "</table>\n",
       "</div>"
      ],
      "text/plain": [
       "                     algo  accuracy(underweight) %\n",
       "0  DecisionTreeClassifier                  59.6900\n",
       "1                     svm                  68.1980\n",
       "2             naive Bayes                  64.6810\n",
       "3           random forest                  65.6490\n",
       "4     logistic regression                  68.3410\n",
       "5                     ANN                  69.1535"
      ]
     },
     "execution_count": 15,
     "metadata": {},
     "output_type": "execute_result"
    }
   ],
   "source": [
    "allAccuUnder"
   ]
  },
  {
   "cell_type": "code",
   "execution_count": 16,
   "metadata": {},
   "outputs": [
    {
     "data": {
      "text/plain": [
       "Text(0.5, 1.0, 'all underweight accuracy comparison:\\n--------------------------------------------\\n')"
      ]
     },
     "execution_count": 16,
     "metadata": {},
     "output_type": "execute_result"
    },
    {
     "data": {
      "image/png": "[encoded data removed]",
      "text/plain": [
       "<Figure size 576x360 with 1 Axes>"
      ]
     },
     "metadata": {
      "needs_background": "light"
     },
     "output_type": "display_data"
    }
   ],
   "source": [
    "plt.figure(figsize=(8,5))\n",
    "barplot = sns.barplot(x = 'algo', y = 'accuracy(underweight) %', data = allAccuUnder)\n",
    "plt.title('all underweight accuracy comparison:\\n--------------------------------------------\\n')"
   ]
  },
  {
   "cell_type": "code",
   "execution_count": 20,
   "metadata": {},
   "outputs": [],
   "source": [
    "# ----------\n",
    "# wasting  |\n",
    "# ----------"
   ]
  },
  {
   "cell_type": "code",
   "execution_count": 17,
   "metadata": {},
   "outputs": [],
   "source": [
    "allAccuWast = pd.DataFrame({\n",
    "    'algo'   : ['DecisionTreeClassifier','svm','naive Bayes','random forest','logistic regression', 'ANN'],\n",
    "    'accuracy(wasting) %' : [74.676, 85.930, 82.970, 85.463, 85.930, 85.9397]\n",
    "})"
   ]
  },
  {
   "cell_type": "code",
   "execution_count": 18,
   "metadata": {},
   "outputs": [
    {
     "data": {
      "text/html": [
       "<div>\n",
       "<style scoped>\n",
       "    .dataframe tbody tr th:only-of-type {\n",
       "        vertical-align: middle;\n",
       "    }\n",
       "\n",
       "    .dataframe tbody tr th {\n",
       "        vertical-align: top;\n",
       "    }\n",
       "\n",
       "    .dataframe thead th {\n",
       "        text-align: right;\n",
       "    }\n",
       "</style>\n",
       "<table border=\"1\" class=\"dataframe\">\n",
       "  <thead>\n",
       "    <tr style=\"text-align: right;\">\n",
       "      <th></th>\n",
       "      <th>algo</th>\n",
       "      <th>accuracy(wasting) %</th>\n",
       "    </tr>\n",
       "  </thead>\n",
       "  <tbody>\n",
       "    <tr>\n",
       "      <th>0</th>\n",
       "      <td>DecisionTreeClassifier</td>\n",
       "      <td>74.6760</td>\n",
       "    </tr>\n",
       "    <tr>\n",
       "      <th>1</th>\n",
       "      <td>svm</td>\n",
       "      <td>85.9300</td>\n",
       "    </tr>\n",
       "    <tr>\n",
       "      <th>2</th>\n",
       "      <td>naive Bayes</td>\n",
       "      <td>82.9700</td>\n",
       "    </tr>\n",
       "    <tr>\n",
       "      <th>3</th>\n",
       "      <td>random forest</td>\n",
       "      <td>85.4630</td>\n",
       "    </tr>\n",
       "    <tr>\n",
       "      <th>4</th>\n",
       "      <td>logistic regression</td>\n",
       "      <td>85.9300</td>\n",
       "    </tr>\n",
       "    <tr>\n",
       "      <th>5</th>\n",
       "      <td>ANN</td>\n",
       "      <td>85.9397</td>\n",
       "    </tr>\n",
       "  </tbody>\n",
       "</table>\n",
       "</div>"
      ],
      "text/plain": [
       "                     algo  accuracy(wasting) %\n",
       "0  DecisionTreeClassifier              74.6760\n",
       "1                     svm              85.9300\n",
       "2             naive Bayes              82.9700\n",
       "3           random forest              85.4630\n",
       "4     logistic regression              85.9300\n",
       "5                     ANN              85.9397"
      ]
     },
     "execution_count": 18,
     "metadata": {},
     "output_type": "execute_result"
    }
   ],
   "source": [
    "allAccuWast"
   ]
  },
  {
   "cell_type": "code",
   "execution_count": 19,
   "metadata": {},
   "outputs": [
    {
     "data": {
      "text/plain": [
       "Text(0.5, 1.0, 'all wasting accuracy comparison:\\n--------------------------------------------\\n')"
      ]
     },
     "execution_count": 19,
     "metadata": {},
     "output_type": "execute_result"
    },
    {
     "data": {
      "image/png": "[encoded data removed]",
      "text/plain": [
       "<Figure size 576x360 with 1 Axes>"
      ]
     },
     "metadata": {
      "needs_background": "light"
     },
     "output_type": "display_data"
    }
   ],
   "source": [
    "plt.figure(figsize=(8,5))\n",
    "barplot = sns.barplot(x = 'algo', y = 'accuracy(wasting) %', data = allAccuWast)\n",
    "plt.title('all wasting accuracy comparison:\\n--------------------------------------------\\n')"
   ]
  },
  {
   "cell_type": "code",
   "execution_count": 20,
   "metadata": {},
   "outputs": [],
   "source": [
    "sc = StandardScaler()\n",
    "sc1 = StandardScaler()"
   ]
  },
  {
   "cell_type": "code",
   "execution_count": 21,
   "metadata": {},
   "outputs": [],
   "source": [
    "# -----------------------------------------------------------------------------------------\n",
    "# 2. Probability of having stunning, wasting and underweight respect to mother’s education\n",
    "# -----------------------------------------------------------------------------------------"
   ]
  },
  {
   "cell_type": "code",
   "execution_count": 22,
   "metadata": {},
   "outputs": [],
   "source": [
    "logReg = LogisticRegression(random_state = 0)"
   ]
  },
  {
   "cell_type": "code",
   "execution_count": 23,
   "metadata": {},
   "outputs": [],
   "source": [
    "x_Mother_edu = df.iloc[:, [11]].values\n",
    "\n",
    "y_stun = df.iloc[:, 3].values\n",
    "y_underW = df.iloc[:, 4].values\n",
    "y_was = df.iloc[:, 5].values"
   ]
  },
  {
   "cell_type": "code",
   "execution_count": 24,
   "metadata": {},
   "outputs": [],
   "source": [
    "x_train_Mother_edu_stun,x_test_Mother_edu_stun,y_train_Mother_edu_stun,y_test_Mother_edu_stun = train_test_split(x_Mother_edu, y_stun, test_size=0.1, random_state=101)\n",
    "x_train_Mother_edu_underW,x_test_Mother_edu_underW,y_train_Mother_edu_underW,y_test_Mother_edu_underW = train_test_split(x_Mother_edu, y_underW, test_size=0.1, random_state=101)\n",
    "x_train_Mother_edu_was,x_test_Mother_edu_was,y_train_Mother_edu_was,y_test_Mother_edu_was = train_test_split(x_Mother_edu, y_was, test_size=0.1, random_state=101)"
   ]
  },
  {
   "cell_type": "code",
   "execution_count": 25,
   "metadata": {},
   "outputs": [
    {
     "name": "stderr",
     "output_type": "stream",
     "text": [
      "C:\\Users\\This Pc\\Anaconda3\\lib\\site-packages\\sklearn\\linear_model\\logistic.py:433: FutureWarning: Default solver will be changed to 'lbfgs' in 0.22. Specify a solver to silence this warning.\n",
      "  FutureWarning)\n",
      "C:\\Users\\This Pc\\Anaconda3\\lib\\site-packages\\sklearn\\linear_model\\logistic.py:433: FutureWarning: Default solver will be changed to 'lbfgs' in 0.22. Specify a solver to silence this warning.\n",
      "  FutureWarning)\n",
      "C:\\Users\\This Pc\\Anaconda3\\lib\\site-packages\\sklearn\\linear_model\\logistic.py:433: FutureWarning: Default solver will be changed to 'lbfgs' in 0.22. Specify a solver to silence this warning.\n",
      "  FutureWarning)\n"
     ]
    }
   ],
   "source": [
    "logReg.fit(x_train_Mother_edu_stun, y_train_Mother_edu_stun)\n",
    "logReg.fit(x_train_Mother_edu_underW, y_train_Mother_edu_underW)\n",
    "logReg.fit(x_train_Mother_edu_was, y_train_Mother_edu_was)\n",
    "\n",
    "y_pred_Mother_edu_stun = logReg.predict(x_test_Mother_edu_stun)\n",
    "y_pred_Mother_edu_underwei = logReg.predict(x_test_Mother_edu_underW)\n",
    "y_pred_Mother_edu_wast = logReg.predict(x_test_Mother_edu_was)"
   ]
  },
  {
   "cell_type": "code",
   "execution_count": 27,
   "metadata": {},
   "outputs": [
    {
     "name": "stdout",
     "output_type": "stream",
     "text": [
      "accuracy score of stunting:  63.41463 \n",
      "\n",
      "accuracy score of underweight:  68.86657 \n",
      "\n",
      "accuracy score of wasting:  87.94835 \n",
      "\n"
     ]
    }
   ],
   "source": [
    "print('accuracy score of stunting: ', round(accuracy_score(y_test_Mother_edu_stun, y_pred_Mother_edu_stun)*100, 5), '\\n')\n",
    "print('accuracy score of underweight: ', round(accuracy_score(y_test_Mother_edu_underW, y_pred_Mother_edu_underwei)*100, 5), '\\n')\n",
    "print('accuracy score of wasting: ', round(accuracy_score(y_test_Mother_edu_was, y_pred_Mother_edu_wast)*100, 5), '\\n')"
   ]
  },
  {
   "cell_type": "code",
   "execution_count": 28,
   "metadata": {},
   "outputs": [],
   "source": [
    "allAccuMothEdu = pd.DataFrame({\n",
    "    'decision'   : ['stunting','underweight','wasting'],\n",
    "    'accuracy (%)' : [63.41463, 68.86657, 87.94835]\n",
    "})"
   ]
  },
  {
   "cell_type": "code",
   "execution_count": 30,
   "metadata": {},
   "outputs": [
    {
     "data": {
      "text/plain": [
       "Text(0.5, 1.0, 'stunting, underweight, wasting with respect to mother education:\\n---------------------------------------------------------\\n')"
      ]
     },
     "execution_count": 30,
     "metadata": {},
     "output_type": "execute_result"
    },
    {
     "data": {
      "image/png": "[encoded data removed]",
      "text/plain": [
       "<Figure size 432x360 with 1 Axes>"
      ]
     },
     "metadata": {
      "needs_background": "light"
     },
     "output_type": "display_data"
    }
   ],
   "source": [
    "plt.figure(figsize=(6,5))\n",
    "barplot1 = sns.barplot(x = 'decision', y = 'accuracy (%)', data = allAccuMothEdu)\n",
    "plt.title('stunting, underweight, wasting with respect to mother education:\\n---------------------------------------------------------\\n')"
   ]
  },
  {
   "cell_type": "code",
   "execution_count": 31,
   "metadata": {},
   "outputs": [],
   "source": [
    "# -----------------------------------------------------------------------------------------\n",
    "# 3. Probability of having stunning, wasting and underweight respect to have previous child. \n",
    "# -----------------------------------------------------------------------------------------"
   ]
  },
  {
   "cell_type": "code",
   "execution_count": 32,
   "metadata": {},
   "outputs": [],
   "source": [
    "logReg1 = LogisticRegression(random_state = 0)"
   ]
  },
  {
   "cell_type": "code",
   "execution_count": 33,
   "metadata": {},
   "outputs": [],
   "source": [
    "x_birth_order = df.iloc[:, [10]].values\n",
    "\n",
    "y_birth_order_stun = df.iloc[:, 3].values\n",
    "y_birth_order_underW = df.iloc[:, 4].values\n",
    "y_birth_order_was = df.iloc[:, 5].values"
   ]
  },
  {
   "cell_type": "code",
   "execution_count": 38,
   "metadata": {},
   "outputs": [],
   "source": [
    "x_train_birth_order_stun,x_test_birth_order_stun,y_train_birth_order_stun,y_test_birth_order_stun = train_test_split(x_birth_order, y_birth_order_stun, test_size=0.1, random_state=41)\n",
    "x_train_birth_order_underW,x_test_birth_order_underW,y_train_birth_order_underW,y_test_birth_order_underW = train_test_split(x_birth_order, y_birth_order_underW, test_size=0.1, random_state=41)\n",
    "x_train_birth_order_was,x_test_birth_order_was,y_train_birth_order_was,y_test_birth_order_was = train_test_split(x_birth_order, y_birth_order_was, test_size=0.1, random_state=41)"
   ]
  },
  {
   "cell_type": "code",
   "execution_count": 39,
   "metadata": {},
   "outputs": [
    {
     "name": "stderr",
     "output_type": "stream",
     "text": [
      "C:\\Users\\This Pc\\Anaconda3\\lib\\site-packages\\sklearn\\linear_model\\logistic.py:433: FutureWarning: Default solver will be changed to 'lbfgs' in 0.22. Specify a solver to silence this warning.\n",
      "  FutureWarning)\n",
      "C:\\Users\\This Pc\\Anaconda3\\lib\\site-packages\\sklearn\\linear_model\\logistic.py:433: FutureWarning: Default solver will be changed to 'lbfgs' in 0.22. Specify a solver to silence this warning.\n",
      "  FutureWarning)\n",
      "C:\\Users\\This Pc\\Anaconda3\\lib\\site-packages\\sklearn\\linear_model\\logistic.py:433: FutureWarning: Default solver will be changed to 'lbfgs' in 0.22. Specify a solver to silence this warning.\n",
      "  FutureWarning)\n"
     ]
    }
   ],
   "source": [
    "logReg1.fit(x_train_birth_order_stun, y_train_birth_order_stun)\n",
    "logReg1.fit(x_train_birth_order_underW, y_train_birth_order_underW)\n",
    "logReg1.fit(x_train_birth_order_was, y_train_birth_order_was)\n",
    "\n",
    "y_pred_birth_orde_stun = logReg1.predict(x_test_birth_order_stun)\n",
    "y_pred_birth_orde_underwei = logReg1.predict(x_test_birth_order_underW)\n",
    "y_pred_birth_orde_wast = logReg1.predict(x_test_birth_order_was)"
   ]
  },
  {
   "cell_type": "code",
   "execution_count": 40,
   "metadata": {},
   "outputs": [
    {
     "name": "stdout",
     "output_type": "stream",
     "text": [
      "accuracy score of stunting:  63.55811 \n",
      "\n",
      "accuracy score of underweight:  68.14921 \n",
      "\n",
      "accuracy score of wasting:  86.51363 \n",
      "\n"
     ]
    }
   ],
   "source": [
    "print('accuracy score of stunting: ', round(accuracy_score(y_test_birth_order_stun, y_pred_birth_orde_stun)*100, 5), '\\n')\n",
    "print('accuracy score of underweight: ', round(accuracy_score(y_test_birth_order_underW, y_pred_birth_orde_underwei)*100, 5), '\\n')\n",
    "print('accuracy score of wasting: ', round(accuracy_score(y_test_birth_order_was, y_pred_birth_orde_wast)*100, 5), '\\n')"
   ]
  },
  {
   "cell_type": "code",
   "execution_count": 41,
   "metadata": {},
   "outputs": [],
   "source": [
    "allAccuBirthOrd = pd.DataFrame({\n",
    "    'decision'   : ['stunting','underweight','wasting'],\n",
    "    'accuracy (%)' : [63.55811, 68.14921, 86.51363]\n",
    "})"
   ]
  },
  {
   "cell_type": "code",
   "execution_count": 43,
   "metadata": {},
   "outputs": [
    {
     "name": "stderr",
     "output_type": "stream",
     "text": [
      "No handles with labels found to put in legend.\n"
     ]
    },
    {
     "data": {
      "text/plain": [
       "<matplotlib.legend.Legend at 0x1f9aaf4beb8>"
      ]
     },
     "execution_count": 43,
     "metadata": {},
     "output_type": "execute_result"
    },
    {
     "data": {
      "image/png": "[encoded data removed]",
      "text/plain": [
       "<Figure size 432x360 with 1 Axes>"
      ]
     },
     "metadata": {
      "needs_background": "light"
     },
     "output_type": "display_data"
    }
   ],
   "source": [
    "plt.figure(figsize=(6,5))\n",
    "barplot2 = sns.barplot(x = 'decision', y = 'accuracy (%)', data = allAccuBirthOrd)\n",
    "plt.title('stunting, underweight, wasting with respect to birth order:\\n---------------------------------------------------------\\n')"
   ]
  },
  {
   "cell_type": "code",
   "execution_count": 37,
   "metadata": {},
   "outputs": [],
   "source": [
    "# -----------------------------------------------------------------------------------------\n",
    "# 4. Probability of having stunning, wasting and underweight respect to have breastfeeding.. \n",
    "# -----------------------------------------------------------------------------------------"
   ]
  },
  {
   "cell_type": "code",
   "execution_count": 50,
   "metadata": {},
   "outputs": [],
   "source": [
    "logReg2 = LogisticRegression(random_state = 0)"
   ]
  },
  {
   "cell_type": "code",
   "execution_count": 51,
   "metadata": {},
   "outputs": [],
   "source": [
    "x_bfeed = df.iloc[:, [17]].values\n",
    "\n",
    "y_bfeed_stun = df.iloc[:, 3].values\n",
    "y_bfeed_underW = df.iloc[:, 4].values\n",
    "y_bfeed_was = df.iloc[:, 5].values"
   ]
  },
  {
   "cell_type": "code",
   "execution_count": 52,
   "metadata": {},
   "outputs": [],
   "source": [
    "x_train_bfeed_stun,x_test_bfeed_stun,y_train_bfeed_stun,y_test_bfeed_stun = train_test_split(x_bfeed, y_bfeed_stun, test_size=0.1, random_state=0)\n",
    "\n",
    "x_train_bfeed_underW,x_test_bfeed_underW,y_train_bfeed_underW,y_test_bfeed_underW = train_test_split(x_bfeed, y_bfeed_underW, test_size=0.1, random_state=0)\n",
    "\n",
    "x_train_bfeed_was,x_test_bfeed_was,y_train_bfeed_was,y_test_bfeed_was = train_test_split(x_bfeed, y_bfeed_was, test_size=0.1, random_state=0)"
   ]
  },
  {
   "cell_type": "code",
   "execution_count": 53,
   "metadata": {},
   "outputs": [
    {
     "name": "stderr",
     "output_type": "stream",
     "text": [
      "C:\\Users\\This Pc\\Anaconda3\\lib\\site-packages\\sklearn\\linear_model\\logistic.py:433: FutureWarning: Default solver will be changed to 'lbfgs' in 0.22. Specify a solver to silence this warning.\n",
      "  FutureWarning)\n",
      "C:\\Users\\This Pc\\Anaconda3\\lib\\site-packages\\sklearn\\linear_model\\logistic.py:433: FutureWarning: Default solver will be changed to 'lbfgs' in 0.22. Specify a solver to silence this warning.\n",
      "  FutureWarning)\n",
      "C:\\Users\\This Pc\\Anaconda3\\lib\\site-packages\\sklearn\\linear_model\\logistic.py:433: FutureWarning: Default solver will be changed to 'lbfgs' in 0.22. Specify a solver to silence this warning.\n",
      "  FutureWarning)\n"
     ]
    }
   ],
   "source": [
    "logReg2.fit(x_train_bfeed_stun, y_train_bfeed_stun)\n",
    "logReg2.fit(x_train_bfeed_underW, y_train_bfeed_underW)\n",
    "logReg2.fit(x_train_bfeed_was, y_train_bfeed_was)\n",
    "\n",
    "y_pred_bfeed_stun = logReg2.predict(x_test_bfeed_stun)\n",
    "y_pred_bfeed_underwei = logReg2.predict(x_test_bfeed_underW)\n",
    "y_pred_bfeed_wast = logReg2.predict(x_test_bfeed_was)"
   ]
  },
  {
   "cell_type": "code",
   "execution_count": 55,
   "metadata": {},
   "outputs": [
    {
     "name": "stdout",
     "output_type": "stream",
     "text": [
      "accuracy score of stunting:  66.1406 \n",
      "\n",
      "accuracy score of underweight:  67.43185 \n",
      "\n",
      "accuracy score of wasting:  84.36155 \n",
      "\n"
     ]
    }
   ],
   "source": [
    "print('accuracy score of stunting: ', round(accuracy_score(y_test_bfeed_stun, y_pred_bfeed_stun)*100, 5), '\\n')\n",
    "print('accuracy score of underweight: ', round(accuracy_score(y_test_bfeed_underW, y_pred_bfeed_underwei)*100, 5), '\\n')\n",
    "print('accuracy score of wasting: ', round(accuracy_score(y_test_bfeed_was, y_pred_bfeed_wast)*100, 5), '\\n')"
   ]
  },
  {
   "cell_type": "code",
   "execution_count": 56,
   "metadata": {},
   "outputs": [],
   "source": [
    "allAccuBrestFeed = pd.DataFrame({\n",
    "    'decision'   : ['stunting','underweight','wasting'],\n",
    "    'accuracy (%)' : [66.1406, 67.43185, 84.36155]\n",
    "})"
   ]
  },
  {
   "cell_type": "code",
   "execution_count": 57,
   "metadata": {},
   "outputs": [
    {
     "data": {
      "text/plain": [
       "Text(0.5, 1.0, 'stunting, underweight, wasting with respect to brest feeding:\\n---------------------------------------------------------\\n')"
      ]
     },
     "execution_count": 57,
     "metadata": {},
     "output_type": "execute_result"
    },
    {
     "data": {
      "image/png": "[encoded data removed]",
      "text/plain": [
       "<Figure size 432x360 with 1 Axes>"
      ]
     },
     "metadata": {
      "needs_background": "light"
     },
     "output_type": "display_data"
    }
   ],
   "source": [
    "plt.figure(figsize=(6,5))\n",
    "barplot2 = sns.barplot(x = 'decision', y = 'accuracy (%)', data = allAccuBrestFeed)\n",
    "plt.title('stunting, underweight, wasting with respect to brest feeding:\\n---------------------------------------------------------\\n')"
   ]
  },
  {
   "cell_type": "code",
   "execution_count": 58,
   "metadata": {},
   "outputs": [],
   "source": [
    "# -----------------------------------------------------------------------------------------\n",
    "# 5. Probability of having stunning, wasting and underweight respect to have mothers BMI \n",
    "# -----------------------------------------------------------------------------------------"
   ]
  },
  {
   "cell_type": "code",
   "execution_count": 59,
   "metadata": {},
   "outputs": [],
   "source": [
    "logReg3 = LogisticRegression(random_state = 0)"
   ]
  },
  {
   "cell_type": "code",
   "execution_count": 60,
   "metadata": {},
   "outputs": [],
   "source": [
    "x_bmi = df.iloc[:, [9]].values\n",
    "\n",
    "y_bmi_stun = df.iloc[:, 3].values\n",
    "y_bmi_underW = df.iloc[:, 4].values\n",
    "y_bmi_was = df.iloc[:, 5].values"
   ]
  },
  {
   "cell_type": "code",
   "execution_count": 61,
   "metadata": {},
   "outputs": [],
   "source": [
    "x_train_bmi_stun,x_test_bmi_stun,y_train_bmi_stun,y_test_bmi_stun = train_test_split(x_bmi, y_bmi_stun, test_size=0.2, random_state=43)\n",
    "\n",
    "x_train_bmi_underW,x_test_bmi_underW,y_train_bmi_underW,y_test_bmi_underW = train_test_split(x_bmi, y_bmi_underW, test_size=0.2, random_state=43)\n",
    "\n",
    "x_train_bmi_was,x_test_bmi_was,y_train_bmi_was,y_test_bmi_was = train_test_split(x_bmi, y_bmi_was, test_size=0.2, random_state=43)"
   ]
  },
  {
   "cell_type": "code",
   "execution_count": 62,
   "metadata": {},
   "outputs": [],
   "source": [
    "x_train_bmi_stun = sc.fit_transform(x_train_bmi_stun)\n",
    "x_train_bmi_underW = sc.fit_transform(x_train_bmi_underW)\n",
    "x_train_bmi_was = sc.fit_transform(x_train_bmi_was)\n",
    "\n",
    "x_test_bmi_stun = sc.transform(x_test_bmi_stun)\n",
    "x_test_bmi_underW = sc.transform(x_test_bmi_underW)\n",
    "x_test_bmi_was = sc.transform(x_test_bmi_was)"
   ]
  },
  {
   "cell_type": "code",
   "execution_count": 63,
   "metadata": {},
   "outputs": [
    {
     "name": "stderr",
     "output_type": "stream",
     "text": [
      "C:\\Users\\This Pc\\Anaconda3\\lib\\site-packages\\sklearn\\linear_model\\logistic.py:433: FutureWarning: Default solver will be changed to 'lbfgs' in 0.22. Specify a solver to silence this warning.\n",
      "  FutureWarning)\n",
      "C:\\Users\\This Pc\\Anaconda3\\lib\\site-packages\\sklearn\\linear_model\\logistic.py:433: FutureWarning: Default solver will be changed to 'lbfgs' in 0.22. Specify a solver to silence this warning.\n",
      "  FutureWarning)\n",
      "C:\\Users\\This Pc\\Anaconda3\\lib\\site-packages\\sklearn\\linear_model\\logistic.py:433: FutureWarning: Default solver will be changed to 'lbfgs' in 0.22. Specify a solver to silence this warning.\n",
      "  FutureWarning)\n"
     ]
    }
   ],
   "source": [
    "logReg3.fit(x_train_bmi_stun, y_train_bmi_stun)\n",
    "logReg3.fit(x_train_bmi_underW, y_train_bmi_underW)\n",
    "logReg3.fit(x_train_bmi_was, y_train_bmi_was)\n",
    "\n",
    "y_pred_bmi_stun = logReg3.predict(x_test_bmi_stun)\n",
    "y_pred_bmi_underwei = logReg3.predict(x_test_bmi_underW)\n",
    "y_pred_bmi_wast = logReg3.predict(x_test_bmi_was)"
   ]
  },
  {
   "cell_type": "code",
   "execution_count": 65,
   "metadata": {},
   "outputs": [
    {
     "name": "stdout",
     "output_type": "stream",
     "text": [
      "accuracy score of stunting:  63.89088 \n",
      "\n",
      "accuracy score of underweight:  67.48026 \n",
      "\n",
      "accuracy score of wasting:  85.85786 \n",
      "\n"
     ]
    }
   ],
   "source": [
    "print('accuracy score of stunting: ', round(accuracy_score(y_test_bmi_stun, y_pred_bmi_stun)*100, 5), '\\n')\n",
    "print('accuracy score of underweight: ', round(accuracy_score(y_test_bmi_underW, y_pred_bmi_underwei)*100, 5), '\\n')\n",
    "print('accuracy score of wasting: ', round(accuracy_score(y_test_bmi_was, y_pred_bmi_wast)*100, 5), '\\n')"
   ]
  },
  {
   "cell_type": "code",
   "execution_count": 66,
   "metadata": {},
   "outputs": [],
   "source": [
    "allAccuBmi = pd.DataFrame({\n",
    "    'decision'   : ['stunting','underweight','wasting'],\n",
    "    'accuracy (%)' : [63.89088, 67.48026, 85.85786]\n",
    "})"
   ]
  },
  {
   "cell_type": "code",
   "execution_count": 67,
   "metadata": {},
   "outputs": [
    {
     "data": {
      "text/plain": [
       "Text(0.5, 1.0, 'stunting, underweight, wasting with respect to bmi:\\n---------------------------------------------------------\\n')"
      ]
     },
     "execution_count": 67,
     "metadata": {},
     "output_type": "execute_result"
    },
    {
     "data": {
      "image/png": "[encoded data removed]",
      "text/plain": [
       "<Figure size 432x360 with 1 Axes>"
      ]
     },
     "metadata": {
      "needs_background": "light"
     },
     "output_type": "display_data"
    }
   ],
   "source": [
    "plt.figure(figsize=(6,5))\n",
    "barplot3 = sns.barplot(x = 'decision', y = 'accuracy (%)', data = allAccuBmi)\n",
    "plt.title('stunting, underweight, wasting with respect to bmi:\\n---------------------------------------------------------\\n')"
   ]
  },
  {
   "cell_type": "code",
   "execution_count": 50,
   "metadata": {},
   "outputs": [],
   "source": [
    "# ---------------------------------------------------------------------------------------------------------------\n",
    "# 6. Probability of having stunning, wasting and underweight respect to have mother’s currently working situation\n",
    "# ---------------------------------------------------------------------------------------------------------------"
   ]
  },
  {
   "cell_type": "code",
   "execution_count": 68,
   "metadata": {},
   "outputs": [],
   "source": [
    "logReg4 = LogisticRegression(random_state = 101)"
   ]
  },
  {
   "cell_type": "code",
   "execution_count": 69,
   "metadata": {},
   "outputs": [],
   "source": [
    "x_working = df.iloc[:, [16]].values\n",
    "\n",
    "y_working_stun = df.iloc[:, 3].values\n",
    "y_working_underW = df.iloc[:, 4].values\n",
    "y_working_was = df.iloc[:, 5].values"
   ]
  },
  {
   "cell_type": "code",
   "execution_count": 70,
   "metadata": {},
   "outputs": [],
   "source": [
    "x_train_working_stun,x_test_working_stun,y_train_working_stun,y_test_working_stun = train_test_split(x_working, y_working_stun, test_size=0.2, random_state=0)\n",
    "\n",
    "x_train_working_underW,x_test_working_underW,y_train_working_underW,y_test_working_underW = train_test_split(x_working, y_working_underW, test_size=0.2, random_state=0)\n",
    "\n",
    "x_train_working_was,x_test_working_was,y_train_working_was,y_test_working_was = train_test_split(x_working, y_working_was, test_size=0.2, random_state=0)"
   ]
  },
  {
   "cell_type": "code",
   "execution_count": 71,
   "metadata": {},
   "outputs": [
    {
     "name": "stderr",
     "output_type": "stream",
     "text": [
      "C:\\Users\\This Pc\\Anaconda3\\lib\\site-packages\\sklearn\\linear_model\\logistic.py:433: FutureWarning: Default solver will be changed to 'lbfgs' in 0.22. Specify a solver to silence this warning.\n",
      "  FutureWarning)\n",
      "C:\\Users\\This Pc\\Anaconda3\\lib\\site-packages\\sklearn\\linear_model\\logistic.py:433: FutureWarning: Default solver will be changed to 'lbfgs' in 0.22. Specify a solver to silence this warning.\n",
      "  FutureWarning)\n",
      "C:\\Users\\This Pc\\Anaconda3\\lib\\site-packages\\sklearn\\linear_model\\logistic.py:433: FutureWarning: Default solver will be changed to 'lbfgs' in 0.22. Specify a solver to silence this warning.\n",
      "  FutureWarning)\n"
     ]
    }
   ],
   "source": [
    "logReg4.fit(x_train_working_stun, y_train_working_stun)\n",
    "logReg4.fit(x_train_working_underW, y_train_working_underW)\n",
    "logReg4.fit(x_train_working_was, y_train_working_was)\n",
    "\n",
    "y_pred_working_stun = logReg4.predict(x_test_working_stun)\n",
    "y_pred_working_underwei = logReg4.predict(x_test_working_underW)\n",
    "y_pred_working_wast = logReg4.predict(x_test_working_was)"
   ]
  },
  {
   "cell_type": "code",
   "execution_count": 73,
   "metadata": {},
   "outputs": [
    {
     "name": "stdout",
     "output_type": "stream",
     "text": [
      "accuracy score of stunting:  65.47021 \n",
      "\n",
      "accuracy score of underweight:  67.55205 \n",
      "\n",
      "accuracy score of wasting:  85.42714 \n",
      "\n"
     ]
    }
   ],
   "source": [
    "print('accuracy score of stunting: ', round(accuracy_score(y_test_working_stun, y_pred_working_stun)*100, 5), '\\n')\n",
    "print('accuracy score of underweight: ', round(accuracy_score(y_test_working_underW, y_pred_working_underwei)*100, 5), '\\n')\n",
    "print('accuracy score of wasting: ', round(accuracy_score(y_test_working_was, y_pred_working_wast)*100, 5), '\\n')"
   ]
  },
  {
   "cell_type": "code",
   "execution_count": 74,
   "metadata": {},
   "outputs": [],
   "source": [
    "allAccuMothWork = pd.DataFrame({\n",
    "    'decision'   : ['stunting','underweight','wasting'],\n",
    "    'accuracy (%)' : [65.47021, 67.55205, 85.42714]\n",
    "})"
   ]
  },
  {
   "cell_type": "code",
   "execution_count": 75,
   "metadata": {},
   "outputs": [
    {
     "data": {
      "text/plain": [
       "Text(0.5, 1.0, 'stunting, underweight, wasting with respect to mother working:\\n---------------------------------------------------------\\n')"
      ]
     },
     "execution_count": 75,
     "metadata": {},
     "output_type": "execute_result"
    },
    {
     "data": {
      "image/png": "[encoded data removed]",
      "text/plain": [
       "<Figure size 432x360 with 1 Axes>"
      ]
     },
     "metadata": {
      "needs_background": "light"
     },
     "output_type": "display_data"
    }
   ],
   "source": [
    "plt.figure(figsize=(6,5))\n",
    "barplot4 = sns.barplot(x = 'decision', y = 'accuracy (%)', data = allAccuBmi)\n",
    "plt.title('stunting, underweight, wasting with respect to mother working:\\n---------------------------------------------------------\\n')"
   ]
  },
  {
   "cell_type": "code",
   "execution_count": 76,
   "metadata": {},
   "outputs": [],
   "source": [
    "# ---------------------------------------------------------------------------------------------------------------\n",
    "# 7. Probability of having stunning, wasting and underweight respect to wealth index_cat\n",
    "# ---------------------------------------------------------------------------------------------------------------"
   ]
  },
  {
   "cell_type": "code",
   "execution_count": 77,
   "metadata": {},
   "outputs": [],
   "source": [
    "logReg5 = LogisticRegression(random_state = 0)"
   ]
  },
  {
   "cell_type": "code",
   "execution_count": 78,
   "metadata": {},
   "outputs": [],
   "source": [
    "x_wealth = df.iloc[:, [12]].values\n",
    "\n",
    "y_wealth_stun = df.iloc[:, 3].values\n",
    "y_wealth_underW = df.iloc[:, 4].values\n",
    "y_wealth_was = df.iloc[:, 5].values"
   ]
  },
  {
   "cell_type": "code",
   "execution_count": 79,
   "metadata": {},
   "outputs": [],
   "source": [
    "x_train_wealth_stun,x_test_wealth_stun,y_train_wealth_stun,y_test_wealth_stun = train_test_split(x_wealth, y_wealth_stun, test_size=0.2, random_state=101)\n",
    "\n",
    "x_train_wealth_underW,x_test_wealth_underW,y_train_wealth_underW,y_test_wealth_underW = train_test_split(x_wealth, y_wealth_underW, test_size=0.2, random_state=101)\n",
    "\n",
    "x_train_wealth_was,x_test_wealth_was,y_train_wealth_was,y_test_wealth_was = train_test_split(x_wealth, y_wealth_was, test_size=0.2, random_state=101)"
   ]
  },
  {
   "cell_type": "code",
   "execution_count": 80,
   "metadata": {},
   "outputs": [
    {
     "name": "stderr",
     "output_type": "stream",
     "text": [
      "C:\\Users\\This Pc\\Anaconda3\\lib\\site-packages\\sklearn\\linear_model\\logistic.py:433: FutureWarning: Default solver will be changed to 'lbfgs' in 0.22. Specify a solver to silence this warning.\n",
      "  FutureWarning)\n",
      "C:\\Users\\This Pc\\Anaconda3\\lib\\site-packages\\sklearn\\linear_model\\logistic.py:433: FutureWarning: Default solver will be changed to 'lbfgs' in 0.22. Specify a solver to silence this warning.\n",
      "  FutureWarning)\n",
      "C:\\Users\\This Pc\\Anaconda3\\lib\\site-packages\\sklearn\\linear_model\\logistic.py:433: FutureWarning: Default solver will be changed to 'lbfgs' in 0.22. Specify a solver to silence this warning.\n",
      "  FutureWarning)\n"
     ]
    }
   ],
   "source": [
    "logReg5.fit(x_train_wealth_stun, y_train_wealth_stun)\n",
    "logReg5.fit(x_train_wealth_underW, y_train_wealth_underW)\n",
    "logReg5.fit(x_train_wealth_was, y_train_wealth_was)\n",
    "\n",
    "y_pred_wealth_stun = logReg5.predict(x_test_wealth_stun)\n",
    "y_pred_wealth_underwei = logReg5.predict(x_test_wealth_underW)\n",
    "y_pred_wealth_wast = logReg5.predict(x_test_wealth_was)"
   ]
  },
  {
   "cell_type": "code",
   "execution_count": 81,
   "metadata": {},
   "outputs": [
    {
     "name": "stdout",
     "output_type": "stream",
     "text": [
      "accuracy score of stunting:  64.24982 \n",
      "\n",
      "accuracy score of underweight:  68.62886 \n",
      "\n",
      "accuracy score of wasting:  86.86289 \n",
      "\n"
     ]
    }
   ],
   "source": [
    "print('accuracy score of stunting: ', round(accuracy_score(y_test_wealth_stun, y_pred_wealth_stun)*100, 5), '\\n')\n",
    "print('accuracy score of underweight: ', round(accuracy_score(y_test_wealth_underW, y_pred_wealth_underwei)*100, 5), '\\n')\n",
    "print('accuracy score of wasting: ', round(accuracy_score(y_test_wealth_was, y_pred_wealth_wast)*100, 5), '\\n')"
   ]
  },
  {
   "cell_type": "code",
   "execution_count": 83,
   "metadata": {},
   "outputs": [],
   "source": [
    "allAccuWealthInd = pd.DataFrame({\n",
    "    'decision'   : ['stunting','underweight','wasting'],\n",
    "    'accuracy (%)' : [64.24982, 68.62886, 86.86289]\n",
    "})"
   ]
  },
  {
   "cell_type": "code",
   "execution_count": 84,
   "metadata": {},
   "outputs": [
    {
     "data": {
      "text/plain": [
       "Text(0.5, 1.0, 'stunting, underweight, wasting with respect to wealth Ind:\\n---------------------------------------------------------\\n')"
      ]
     },
     "execution_count": 84,
     "metadata": {},
     "output_type": "execute_result"
    },
    {
     "data": {
      "image/png": "[encoded data removed]",
      "text/plain": [
       "<Figure size 432x360 with 1 Axes>"
      ]
     },
     "metadata": {
      "needs_background": "light"
     },
     "output_type": "display_data"
    }
   ],
   "source": [
    "plt.figure(figsize=(6,5))\n",
    "barplot5 = sns.barplot(x = 'decision', y = 'accuracy (%)', data = allAccuBmi)\n",
    "plt.title('stunting, underweight, wasting with respect to wealth Ind:\\n---------------------------------------------------------\\n')"
   ]
  },
  {
   "cell_type": "code",
   "execution_count": 85,
   "metadata": {},
   "outputs": [],
   "source": [
    "# ---------------------------------------------------------------------------------------------------------------\n",
    "# 7. Probability of having stunning, wasting and underweight respect to child age\n",
    "# ---------------------------------------------------------------------------------------------------------------"
   ]
  },
  {
   "cell_type": "code",
   "execution_count": 86,
   "metadata": {},
   "outputs": [],
   "source": [
    "logReg6 = LogisticRegression(random_state = 0)"
   ]
  },
  {
   "cell_type": "code",
   "execution_count": 87,
   "metadata": {},
   "outputs": [],
   "source": [
    "x_age = df.iloc[:, [2]].values\n",
    "\n",
    "y_age_stun = df.iloc[:, 3].values\n",
    "y_age_underW = df.iloc[:, 4].values\n",
    "y_age_was = df.iloc[:, 5].values"
   ]
  },
  {
   "cell_type": "code",
   "execution_count": 88,
   "metadata": {},
   "outputs": [],
   "source": [
    "x_train_age_stun,x_test_age_stun,y_train_age_stun,y_test_age_stun = train_test_split(x_age, y_age_stun, test_size=0.2, random_state=41)\n",
    "\n",
    "x_train_age_underW,x_test_age_underW,y_train_age_underW,y_test_age_underW = train_test_split(x_age, y_age_underW, test_size=0.2, random_state=41)\n",
    "\n",
    "x_train_age_was,x_test_age_was,y_train_age_was,y_test_age_was = train_test_split(x_age, y_age_was, test_size=0.2, random_state=41)"
   ]
  },
  {
   "cell_type": "code",
   "execution_count": 89,
   "metadata": {},
   "outputs": [
    {
     "name": "stderr",
     "output_type": "stream",
     "text": [
      "C:\\Users\\This Pc\\Anaconda3\\lib\\site-packages\\sklearn\\utils\\validation.py:595: DataConversionWarning: Data with input dtype int64 was converted to float64 by StandardScaler.\n",
      "  warnings.warn(msg, DataConversionWarning)\n",
      "C:\\Users\\This Pc\\Anaconda3\\lib\\site-packages\\sklearn\\utils\\validation.py:595: DataConversionWarning: Data with input dtype int64 was converted to float64 by StandardScaler.\n",
      "  warnings.warn(msg, DataConversionWarning)\n",
      "C:\\Users\\This Pc\\Anaconda3\\lib\\site-packages\\sklearn\\utils\\validation.py:595: DataConversionWarning: Data with input dtype int64 was converted to float64 by StandardScaler.\n",
      "  warnings.warn(msg, DataConversionWarning)\n",
      "C:\\Users\\This Pc\\Anaconda3\\lib\\site-packages\\sklearn\\utils\\validation.py:595: DataConversionWarning: Data with input dtype int64 was converted to float64 by StandardScaler.\n",
      "  warnings.warn(msg, DataConversionWarning)\n",
      "C:\\Users\\This Pc\\Anaconda3\\lib\\site-packages\\sklearn\\utils\\validation.py:595: DataConversionWarning: Data with input dtype int64 was converted to float64 by StandardScaler.\n",
      "  warnings.warn(msg, DataConversionWarning)\n",
      "C:\\Users\\This Pc\\Anaconda3\\lib\\site-packages\\sklearn\\utils\\validation.py:595: DataConversionWarning: Data with input dtype int64 was converted to float64 by StandardScaler.\n",
      "  warnings.warn(msg, DataConversionWarning)\n",
      "C:\\Users\\This Pc\\Anaconda3\\lib\\site-packages\\sklearn\\utils\\validation.py:595: DataConversionWarning: Data with input dtype int64 was converted to float64 by StandardScaler.\n",
      "  warnings.warn(msg, DataConversionWarning)\n",
      "C:\\Users\\This Pc\\Anaconda3\\lib\\site-packages\\sklearn\\utils\\validation.py:595: DataConversionWarning: Data with input dtype int64 was converted to float64 by StandardScaler.\n",
      "  warnings.warn(msg, DataConversionWarning)\n",
      "C:\\Users\\This Pc\\Anaconda3\\lib\\site-packages\\sklearn\\utils\\validation.py:595: DataConversionWarning: Data with input dtype int64 was converted to float64 by StandardScaler.\n",
      "  warnings.warn(msg, DataConversionWarning)\n"
     ]
    }
   ],
   "source": [
    "x_train_age_stun = sc1.fit_transform(x_train_age_stun)\n",
    "x_train_age_underW = sc1.fit_transform(x_train_age_underW)\n",
    "x_train_age_was = sc1.fit_transform(x_train_age_was)\n",
    "\n",
    "x_test_age_stun = sc1.transform(x_test_age_stun)\n",
    "x_test_age_underW = sc1.transform(x_test_age_underW)\n",
    "x_test_age_was = sc1.transform(x_test_age_was)"
   ]
  },
  {
   "cell_type": "code",
   "execution_count": 90,
   "metadata": {},
   "outputs": [
    {
     "name": "stderr",
     "output_type": "stream",
     "text": [
      "C:\\Users\\This Pc\\Anaconda3\\lib\\site-packages\\sklearn\\linear_model\\logistic.py:433: FutureWarning: Default solver will be changed to 'lbfgs' in 0.22. Specify a solver to silence this warning.\n",
      "  FutureWarning)\n",
      "C:\\Users\\This Pc\\Anaconda3\\lib\\site-packages\\sklearn\\linear_model\\logistic.py:433: FutureWarning: Default solver will be changed to 'lbfgs' in 0.22. Specify a solver to silence this warning.\n",
      "  FutureWarning)\n",
      "C:\\Users\\This Pc\\Anaconda3\\lib\\site-packages\\sklearn\\linear_model\\logistic.py:433: FutureWarning: Default solver will be changed to 'lbfgs' in 0.22. Specify a solver to silence this warning.\n",
      "  FutureWarning)\n"
     ]
    }
   ],
   "source": [
    "logReg6.fit(x_train_age_stun, y_train_age_stun)\n",
    "logReg6.fit(x_train_age_underW, y_train_age_underW)\n",
    "logReg6.fit(x_train_age_was, y_train_age_was)\n",
    "\n",
    "y_pred_age_stun = logReg5.predict(x_test_age_stun)\n",
    "y_pred_age_underwei = logReg5.predict(x_test_age_underW)\n",
    "y_pred_age_wast = logReg5.predict(x_test_age_was)"
   ]
  },
  {
   "cell_type": "code",
   "execution_count": 91,
   "metadata": {},
   "outputs": [
    {
     "name": "stdout",
     "output_type": "stream",
     "text": [
      "accuracy score of stunting:  62.81407 \n",
      "\n",
      "accuracy score of underweight:  67.69562 \n",
      "\n",
      "accuracy score of wasting:  85.92965 \n",
      "\n"
     ]
    }
   ],
   "source": [
    "print('accuracy score of stunting: ', round(accuracy_score(y_test_age_stun, y_pred_age_stun)*100, 5), '\\n')\n",
    "print('accuracy score of underweight: ', round(accuracy_score(y_test_age_underW, y_pred_age_underwei)*100, 5), '\\n')\n",
    "print('accuracy score of wasting: ', round(accuracy_score(y_test_age_was, y_pred_age_wast)*100, 5), '\\n')"
   ]
  },
  {
   "cell_type": "code",
   "execution_count": 93,
   "metadata": {},
   "outputs": [],
   "source": [
    "allAccuAge = pd.DataFrame({\n",
    "    'decision'   : ['stunting','underweight','wasting'],\n",
    "    'accuracy (%)' : [64.24982, 68.62886, 86.86289]\n",
    "})"
   ]
  },
  {
   "cell_type": "code",
   "execution_count": 94,
   "metadata": {},
   "outputs": [
    {
     "data": {
      "text/plain": [
       "Text(0.5, 1.0, 'stunting, underweight, wasting with respect to age:\\n---------------------------------------------------------\\n')"
      ]
     },
     "execution_count": 94,
     "metadata": {},
     "output_type": "execute_result"
    },
    {
     "data": {
      "image/png": "[encoded data removed]",
      "text/plain": [
       "<Figure size 432x360 with 1 Axes>"
      ]
     },
     "metadata": {
      "needs_background": "light"
     },
     "output_type": "display_data"
    }
   ],
   "source": [
    "plt.figure(figsize=(6,5))\n",
    "barplot6 = sns.barplot(x = 'decision', y = 'accuracy (%)', data = allAccuAge)\n",
    "plt.title('stunting, underweight, wasting with respect to age:\\n---------------------------------------------------------\\n')"
   ]
  },
  {
   "cell_type": "code",
   "execution_count": null,
   "metadata": {},
   "outputs": [],
   "source": []
  }
 ],
 "metadata": {
  "kernelspec": {
   "display_name": "Python 3",
   "language": "python",
   "name": "python3"
  },
  "language_info": {
   "codemirror_mode": {
    "name": "ipython",
    "version": 3
   },
   "file_extension": ".py",
   "mimetype": "text/x-python",
   "name": "python",
   "nbconvert_exporter": "python",
   "pygments_lexer": "ipython3",
   "version": "3.6.8"
  }
 },
 "nbformat": 4,
 "nbformat_minor": 2
}
