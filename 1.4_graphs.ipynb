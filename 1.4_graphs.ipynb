{
 "cells": [
  {
   "cell_type": "code",
   "execution_count": 2,
   "metadata": {},
   "outputs": [],
   "source": [
    "import pandas as pd\n",
    "import numpy as np\n",
    "import matplotlib.pyplot as plt\n",
    "import seaborn as sns\n",
    "%matplotlib inline"
   ]
  },
  {
   "cell_type": "code",
   "execution_count": 3,
   "metadata": {},
   "outputs": [],
   "source": [
    "df = pd.read_csv('finalChildMalnutrition.csv', index_col = 0 )"
   ]
  },
  {
   "cell_type": "code",
   "execution_count": 4,
   "metadata": {},
   "outputs": [],
   "source": [
    "df = df.fillna(df[['fever','Mother_BMI']].mean())\n",
    "df = df.fillna(df[['diar','Father_Edu','currently_working_mot']].mean())"
   ]
  },
  {
   "cell_type": "code",
   "execution_count": 5,
   "metadata": {},
   "outputs": [
    {
     "name": "stdout",
     "output_type": "stream",
     "text": [
      "<class 'pandas.core.frame.DataFrame'>\n",
      "Int64Index: 6965 entries, 0 to 6964\n",
      "Data columns (total 19 columns):\n",
      "Division                 6965 non-null int64\n",
      "Age at 1st Birth         6965 non-null int64\n",
      "Child Age                6965 non-null int64\n",
      "stunting                 6965 non-null int64\n",
      "underweight              6965 non-null int64\n",
      "wasting                  6965 non-null int64\n",
      "diar                     6965 non-null float64\n",
      "fever                    6965 non-null float64\n",
      "ari                      6965 non-null int64\n",
      "Mother_BMI               6965 non-null float64\n",
      "Birth_Order              6965 non-null int64\n",
      "Mother_edu               6965 non-null int64\n",
      "wealth_index_cat         6965 non-null int64\n",
      "Father_Edu               6965 non-null float64\n",
      "residence                6965 non-null int64\n",
      "sex                      6965 non-null int64\n",
      "currently_working_mot    6965 non-null float64\n",
      "Breastfeeding            6965 non-null int64\n",
      "household_no             6965 non-null int64\n",
      "dtypes: float64(5), int64(14)\n",
      "memory usage: 1.1 MB\n"
     ]
    }
   ],
   "source": [
    "df.info()"
   ]
  },
  {
   "cell_type": "code",
   "execution_count": 6,
   "metadata": {},
   "outputs": [],
   "source": [
    "df['Division'] = df['Division'].map({1:'barisal',2:'chittagong',3:'dhaka',4:'khulna',5:'Rajshahi',6:'Rangpur',7:'sylhet'})"
   ]
  },
  {
   "cell_type": "code",
   "execution_count": 7,
   "metadata": {},
   "outputs": [],
   "source": [
    "df['Mother_edu'] = df['Mother_edu'].map({0:'no', 1:'yes'})"
   ]
  },
  {
   "cell_type": "code",
   "execution_count": 8,
   "metadata": {},
   "outputs": [],
   "source": [
    "df['Breastfeeding'] = df['Breastfeeding'].map({0:'no', 1:'yes'})"
   ]
  },
  {
   "cell_type": "code",
   "execution_count": 9,
   "metadata": {},
   "outputs": [],
   "source": [
    "df['currently_working_mot'] = df['currently_working_mot'].map({0:'no', 1:'yes'})"
   ]
  },
  {
   "cell_type": "code",
   "execution_count": 10,
   "metadata": {},
   "outputs": [],
   "source": [
    "df['wealth_index_cat'] = df['wealth_index_cat'].map({0:'no', 1:'yes'})"
   ]
  },
  {
   "cell_type": "code",
   "execution_count": 11,
   "metadata": {},
   "outputs": [
    {
     "data": {
      "text/html": [
       "<div>\n",
       "<style scoped>\n",
       "    .dataframe tbody tr th:only-of-type {\n",
       "        vertical-align: middle;\n",
       "    }\n",
       "\n",
       "    .dataframe tbody tr th {\n",
       "        vertical-align: top;\n",
       "    }\n",
       "\n",
       "    .dataframe thead th {\n",
       "        text-align: right;\n",
       "    }\n",
       "</style>\n",
       "<table border=\"1\" class=\"dataframe\">\n",
       "  <thead>\n",
       "    <tr style=\"text-align: right;\">\n",
       "      <th></th>\n",
       "      <th>Division</th>\n",
       "      <th>Age at 1st Birth</th>\n",
       "      <th>Child Age</th>\n",
       "      <th>stunting</th>\n",
       "      <th>underweight</th>\n",
       "      <th>wasting</th>\n",
       "      <th>diar</th>\n",
       "      <th>fever</th>\n",
       "      <th>ari</th>\n",
       "      <th>Mother_BMI</th>\n",
       "      <th>Birth_Order</th>\n",
       "      <th>Mother_edu</th>\n",
       "      <th>wealth_index_cat</th>\n",
       "      <th>Father_Edu</th>\n",
       "      <th>residence</th>\n",
       "      <th>sex</th>\n",
       "      <th>currently_working_mot</th>\n",
       "      <th>Breastfeeding</th>\n",
       "      <th>household_no</th>\n",
       "    </tr>\n",
       "  </thead>\n",
       "  <tbody>\n",
       "    <tr>\n",
       "      <th>0</th>\n",
       "      <td>barisal</td>\n",
       "      <td>16</td>\n",
       "      <td>13</td>\n",
       "      <td>0</td>\n",
       "      <td>1</td>\n",
       "      <td>1</td>\n",
       "      <td>0.0</td>\n",
       "      <td>1.0</td>\n",
       "      <td>1</td>\n",
       "      <td>20.96</td>\n",
       "      <td>2</td>\n",
       "      <td>no</td>\n",
       "      <td>no</td>\n",
       "      <td>0.0</td>\n",
       "      <td>1</td>\n",
       "      <td>1</td>\n",
       "      <td>no</td>\n",
       "      <td>yes</td>\n",
       "      <td>6</td>\n",
       "    </tr>\n",
       "    <tr>\n",
       "      <th>1</th>\n",
       "      <td>barisal</td>\n",
       "      <td>18</td>\n",
       "      <td>47</td>\n",
       "      <td>0</td>\n",
       "      <td>1</td>\n",
       "      <td>1</td>\n",
       "      <td>0.0</td>\n",
       "      <td>1.0</td>\n",
       "      <td>0</td>\n",
       "      <td>19.71</td>\n",
       "      <td>2</td>\n",
       "      <td>no</td>\n",
       "      <td>no</td>\n",
       "      <td>0.0</td>\n",
       "      <td>1</td>\n",
       "      <td>1</td>\n",
       "      <td>no</td>\n",
       "      <td>no</td>\n",
       "      <td>5</td>\n",
       "    </tr>\n",
       "    <tr>\n",
       "      <th>2</th>\n",
       "      <td>barisal</td>\n",
       "      <td>16</td>\n",
       "      <td>23</td>\n",
       "      <td>0</td>\n",
       "      <td>0</td>\n",
       "      <td>0</td>\n",
       "      <td>0.0</td>\n",
       "      <td>0.0</td>\n",
       "      <td>0</td>\n",
       "      <td>20.66</td>\n",
       "      <td>3</td>\n",
       "      <td>no</td>\n",
       "      <td>no</td>\n",
       "      <td>0.0</td>\n",
       "      <td>1</td>\n",
       "      <td>1</td>\n",
       "      <td>yes</td>\n",
       "      <td>yes</td>\n",
       "      <td>5</td>\n",
       "    </tr>\n",
       "    <tr>\n",
       "      <th>3</th>\n",
       "      <td>barisal</td>\n",
       "      <td>21</td>\n",
       "      <td>11</td>\n",
       "      <td>0</td>\n",
       "      <td>0</td>\n",
       "      <td>0</td>\n",
       "      <td>0.0</td>\n",
       "      <td>0.0</td>\n",
       "      <td>0</td>\n",
       "      <td>18.41</td>\n",
       "      <td>1</td>\n",
       "      <td>no</td>\n",
       "      <td>no</td>\n",
       "      <td>0.0</td>\n",
       "      <td>1</td>\n",
       "      <td>1</td>\n",
       "      <td>no</td>\n",
       "      <td>yes</td>\n",
       "      <td>2</td>\n",
       "    </tr>\n",
       "    <tr>\n",
       "      <th>4</th>\n",
       "      <td>barisal</td>\n",
       "      <td>15</td>\n",
       "      <td>51</td>\n",
       "      <td>1</td>\n",
       "      <td>1</td>\n",
       "      <td>0</td>\n",
       "      <td>0.0</td>\n",
       "      <td>1.0</td>\n",
       "      <td>0</td>\n",
       "      <td>19.47</td>\n",
       "      <td>3</td>\n",
       "      <td>no</td>\n",
       "      <td>yes</td>\n",
       "      <td>0.0</td>\n",
       "      <td>1</td>\n",
       "      <td>1</td>\n",
       "      <td>yes</td>\n",
       "      <td>no</td>\n",
       "      <td>4</td>\n",
       "    </tr>\n",
       "  </tbody>\n",
       "</table>\n",
       "</div>"
      ],
      "text/plain": [
       "  Division  Age at 1st Birth  Child Age  stunting  underweight  wasting  diar  \\\n",
       "0  barisal                16         13         0            1        1   0.0   \n",
       "1  barisal                18         47         0            1        1   0.0   \n",
       "2  barisal                16         23         0            0        0   0.0   \n",
       "3  barisal                21         11         0            0        0   0.0   \n",
       "4  barisal                15         51         1            1        0   0.0   \n",
       "\n",
       "   fever  ari  Mother_BMI  Birth_Order Mother_edu wealth_index_cat  \\\n",
       "0    1.0    1       20.96            2         no               no   \n",
       "1    1.0    0       19.71            2         no               no   \n",
       "2    0.0    0       20.66            3         no               no   \n",
       "3    0.0    0       18.41            1         no               no   \n",
       "4    1.0    0       19.47            3         no              yes   \n",
       "\n",
       "   Father_Edu  residence  sex currently_working_mot Breastfeeding  \\\n",
       "0         0.0          1    1                    no           yes   \n",
       "1         0.0          1    1                    no            no   \n",
       "2         0.0          1    1                   yes           yes   \n",
       "3         0.0          1    1                    no           yes   \n",
       "4         0.0          1    1                   yes            no   \n",
       "\n",
       "   household_no  \n",
       "0             6  \n",
       "1             5  \n",
       "2             5  \n",
       "3             2  \n",
       "4             4  "
      ]
     },
     "execution_count": 11,
     "metadata": {},
     "output_type": "execute_result"
    }
   ],
   "source": [
    "df.head()"
   ]
  },
  {
   "cell_type": "code",
   "execution_count": 12,
   "metadata": {},
   "outputs": [
    {
     "name": "stdout",
     "output_type": "stream",
     "text": [
      "<class 'pandas.core.frame.DataFrame'>\n",
      "Int64Index: 6965 entries, 0 to 6964\n",
      "Data columns (total 19 columns):\n",
      "Division                 6965 non-null object\n",
      "Age at 1st Birth         6965 non-null int64\n",
      "Child Age                6965 non-null int64\n",
      "stunting                 6965 non-null int64\n",
      "underweight              6965 non-null int64\n",
      "wasting                  6965 non-null int64\n",
      "diar                     6965 non-null float64\n",
      "fever                    6965 non-null float64\n",
      "ari                      6965 non-null int64\n",
      "Mother_BMI               6965 non-null float64\n",
      "Birth_Order              6965 non-null int64\n",
      "Mother_edu               6965 non-null object\n",
      "wealth_index_cat         6965 non-null object\n",
      "Father_Edu               6965 non-null float64\n",
      "residence                6965 non-null int64\n",
      "sex                      6965 non-null int64\n",
      "currently_working_mot    6964 non-null object\n",
      "Breastfeeding            6965 non-null object\n",
      "household_no             6965 non-null int64\n",
      "dtypes: float64(4), int64(10), object(5)\n",
      "memory usage: 1.1+ MB\n"
     ]
    }
   ],
   "source": [
    "df.info()"
   ]
  },
  {
   "cell_type": "code",
   "execution_count": 13,
   "metadata": {},
   "outputs": [],
   "source": [
    "# 1. accuracy\n",
    "# ---------"
   ]
  },
  {
   "cell_type": "code",
   "execution_count": 14,
   "metadata": {},
   "outputs": [],
   "source": [
    "# -----------\n",
    "# stunting  |\n",
    "# -----------"
   ]
  },
  {
   "cell_type": "code",
   "execution_count": 15,
   "metadata": {},
   "outputs": [],
   "source": [
    "allAccuStun = pd.DataFrame({\n",
    "    'algo'   : ['DecisionTreeClassifier','svm','naive Bayes','random forest','logistic regression'],\n",
    "    'accuracy(stunting) %' : [66.954, 69.526, 62.821, 72.124, 62.647]\n",
    "})"
   ]
  },
  {
   "cell_type": "code",
   "execution_count": 16,
   "metadata": {},
   "outputs": [
    {
     "data": {
      "text/html": [
       "<div>\n",
       "<style scoped>\n",
       "    .dataframe tbody tr th:only-of-type {\n",
       "        vertical-align: middle;\n",
       "    }\n",
       "\n",
       "    .dataframe tbody tr th {\n",
       "        vertical-align: top;\n",
       "    }\n",
       "\n",
       "    .dataframe thead th {\n",
       "        text-align: right;\n",
       "    }\n",
       "</style>\n",
       "<table border=\"1\" class=\"dataframe\">\n",
       "  <thead>\n",
       "    <tr style=\"text-align: right;\">\n",
       "      <th></th>\n",
       "      <th>algo</th>\n",
       "      <th>accuracy(stunting) %</th>\n",
       "    </tr>\n",
       "  </thead>\n",
       "  <tbody>\n",
       "    <tr>\n",
       "      <th>0</th>\n",
       "      <td>DecisionTreeClassifier</td>\n",
       "      <td>66.954</td>\n",
       "    </tr>\n",
       "    <tr>\n",
       "      <th>1</th>\n",
       "      <td>svm</td>\n",
       "      <td>69.526</td>\n",
       "    </tr>\n",
       "    <tr>\n",
       "      <th>2</th>\n",
       "      <td>naive Bayes</td>\n",
       "      <td>62.821</td>\n",
       "    </tr>\n",
       "    <tr>\n",
       "      <th>3</th>\n",
       "      <td>random forest</td>\n",
       "      <td>72.124</td>\n",
       "    </tr>\n",
       "    <tr>\n",
       "      <th>4</th>\n",
       "      <td>logistic regression</td>\n",
       "      <td>62.647</td>\n",
       "    </tr>\n",
       "  </tbody>\n",
       "</table>\n",
       "</div>"
      ],
      "text/plain": [
       "                     algo  accuracy(stunting) %\n",
       "0  DecisionTreeClassifier                66.954\n",
       "1                     svm                69.526\n",
       "2             naive Bayes                62.821\n",
       "3           random forest                72.124\n",
       "4     logistic regression                62.647"
      ]
     },
     "execution_count": 16,
     "metadata": {},
     "output_type": "execute_result"
    }
   ],
   "source": [
    "allAccuStun"
   ]
  },
  {
   "cell_type": "code",
   "execution_count": 23,
   "metadata": {},
   "outputs": [
    {
     "data": {
      "text/plain": [
       "Text(0.5, 1.0, 'all stunting accuracy comparison:\\n--------------------------------------------\\n')"
      ]
     },
     "execution_count": 23,
     "metadata": {},
     "output_type": "execute_result"
    },
    {
     "data": {
      "image/png": "[encoded data removed]",
      "text/plain": [
       "<Figure size 648x576 with 1 Axes>"
      ]
     },
     "metadata": {
      "needs_background": "light"
     },
     "output_type": "display_data"
    }
   ],
   "source": [
    "plt.figure(figsize=(9,8))\n",
    "barplot = sns.barplot(x = 'algo', y = 'accuracy(stunting) %', data = allAccuStun)\n",
    "plt.title('all stunting accuracy comparison:\\n--------------------------------------------\\n')"
   ]
  },
  {
   "cell_type": "code",
   "execution_count": 24,
   "metadata": {},
   "outputs": [],
   "source": [
    "# -------------\n",
    "# underweight  |\n",
    "# -------------"
   ]
  },
  {
   "cell_type": "code",
   "execution_count": 25,
   "metadata": {},
   "outputs": [],
   "source": [
    "allAccuUnder = pd.DataFrame({\n",
    "    'algo'   : ['DecisionTreeClassifier','svm','naive Bayes','random forest','logistic regression'],\n",
    "    'accuracy(underweight) %' : [69.429, 71.251, 62.917, 75.505, 62.083]\n",
    "})"
   ]
  },
  {
   "cell_type": "code",
   "execution_count": 26,
   "metadata": {},
   "outputs": [
    {
     "data": {
      "text/html": [
       "<div>\n",
       "<style scoped>\n",
       "    .dataframe tbody tr th:only-of-type {\n",
       "        vertical-align: middle;\n",
       "    }\n",
       "\n",
       "    .dataframe tbody tr th {\n",
       "        vertical-align: top;\n",
       "    }\n",
       "\n",
       "    .dataframe thead th {\n",
       "        text-align: right;\n",
       "    }\n",
       "</style>\n",
       "<table border=\"1\" class=\"dataframe\">\n",
       "  <thead>\n",
       "    <tr style=\"text-align: right;\">\n",
       "      <th></th>\n",
       "      <th>algo</th>\n",
       "      <th>accuracy(underweight) %</th>\n",
       "    </tr>\n",
       "  </thead>\n",
       "  <tbody>\n",
       "    <tr>\n",
       "      <th>0</th>\n",
       "      <td>DecisionTreeClassifier</td>\n",
       "      <td>69.429</td>\n",
       "    </tr>\n",
       "    <tr>\n",
       "      <th>1</th>\n",
       "      <td>svm</td>\n",
       "      <td>71.251</td>\n",
       "    </tr>\n",
       "    <tr>\n",
       "      <th>2</th>\n",
       "      <td>naive Bayes</td>\n",
       "      <td>62.917</td>\n",
       "    </tr>\n",
       "    <tr>\n",
       "      <th>3</th>\n",
       "      <td>random forest</td>\n",
       "      <td>75.505</td>\n",
       "    </tr>\n",
       "    <tr>\n",
       "      <th>4</th>\n",
       "      <td>logistic regression</td>\n",
       "      <td>62.083</td>\n",
       "    </tr>\n",
       "  </tbody>\n",
       "</table>\n",
       "</div>"
      ],
      "text/plain": [
       "                     algo  accuracy(underweight) %\n",
       "0  DecisionTreeClassifier                   69.429\n",
       "1                     svm                   71.251\n",
       "2             naive Bayes                   62.917\n",
       "3           random forest                   75.505\n",
       "4     logistic regression                   62.083"
      ]
     },
     "execution_count": 26,
     "metadata": {},
     "output_type": "execute_result"
    }
   ],
   "source": [
    "allAccuUnder"
   ]
  },
  {
   "cell_type": "code",
   "execution_count": 27,
   "metadata": {},
   "outputs": [
    {
     "data": {
      "text/plain": [
       "Text(0.5, 1.0, 'all underweight accuracy comparison:\\n--------------------------------------------\\n')"
      ]
     },
     "execution_count": 27,
     "metadata": {},
     "output_type": "execute_result"
    },
    {
     "data": {
      "image/png": "[encoded data removed]",
      "text/plain": [
       "<Figure size 648x576 with 1 Axes>"
      ]
     },
     "metadata": {
      "needs_background": "light"
     },
     "output_type": "display_data"
    }
   ],
   "source": [
    "plt.figure(figsize=(9, 8))\n",
    "barplot = sns.barplot(x = 'algo', y = 'accuracy(underweight) %', data = allAccuUnder)\n",
    "plt.title('all underweight accuracy comparison:\\n--------------------------------------------\\n')"
   ]
  },
  {
   "cell_type": "code",
   "execution_count": 21,
   "metadata": {},
   "outputs": [],
   "source": [
    "# ----------\n",
    "# wasting  |\n",
    "# ----------"
   ]
  },
  {
   "cell_type": "code",
   "execution_count": 28,
   "metadata": {},
   "outputs": [],
   "source": [
    "allAccuWast = pd.DataFrame({\n",
    "    'algo'   : ['DecisionTreeClassifier','svm','naive Bayes','random forest','logistic regression'],\n",
    "    'accuracy(wasting) %' : [84.722, 84.228, 60.734, 91.041, 56.282]\n",
    "})"
   ]
  },
  {
   "cell_type": "code",
   "execution_count": 29,
   "metadata": {},
   "outputs": [
    {
     "data": {
      "text/html": [
       "<div>\n",
       "<style scoped>\n",
       "    .dataframe tbody tr th:only-of-type {\n",
       "        vertical-align: middle;\n",
       "    }\n",
       "\n",
       "    .dataframe tbody tr th {\n",
       "        vertical-align: top;\n",
       "    }\n",
       "\n",
       "    .dataframe thead th {\n",
       "        text-align: right;\n",
       "    }\n",
       "</style>\n",
       "<table border=\"1\" class=\"dataframe\">\n",
       "  <thead>\n",
       "    <tr style=\"text-align: right;\">\n",
       "      <th></th>\n",
       "      <th>algo</th>\n",
       "      <th>accuracy(wasting) %</th>\n",
       "    </tr>\n",
       "  </thead>\n",
       "  <tbody>\n",
       "    <tr>\n",
       "      <th>0</th>\n",
       "      <td>DecisionTreeClassifier</td>\n",
       "      <td>84.722</td>\n",
       "    </tr>\n",
       "    <tr>\n",
       "      <th>1</th>\n",
       "      <td>svm</td>\n",
       "      <td>84.228</td>\n",
       "    </tr>\n",
       "    <tr>\n",
       "      <th>2</th>\n",
       "      <td>naive Bayes</td>\n",
       "      <td>60.734</td>\n",
       "    </tr>\n",
       "    <tr>\n",
       "      <th>3</th>\n",
       "      <td>random forest</td>\n",
       "      <td>91.041</td>\n",
       "    </tr>\n",
       "    <tr>\n",
       "      <th>4</th>\n",
       "      <td>logistic regression</td>\n",
       "      <td>56.282</td>\n",
       "    </tr>\n",
       "  </tbody>\n",
       "</table>\n",
       "</div>"
      ],
      "text/plain": [
       "                     algo  accuracy(wasting) %\n",
       "0  DecisionTreeClassifier               84.722\n",
       "1                     svm               84.228\n",
       "2             naive Bayes               60.734\n",
       "3           random forest               91.041\n",
       "4     logistic regression               56.282"
      ]
     },
     "execution_count": 29,
     "metadata": {},
     "output_type": "execute_result"
    }
   ],
   "source": [
    "allAccuWast"
   ]
  },
  {
   "cell_type": "code",
   "execution_count": 31,
   "metadata": {},
   "outputs": [
    {
     "data": {
      "text/plain": [
       "Text(0.5, 1.0, 'all wasting accuracy comparison:\\n--------------------------------------------\\n')"
      ]
     },
     "execution_count": 31,
     "metadata": {},
     "output_type": "execute_result"
    },
    {
     "data": {
      "image/png": "[encoded data removed]",
      "text/plain": [
       "<Figure size 648x576 with 1 Axes>"
      ]
     },
     "metadata": {
      "needs_background": "light"
     },
     "output_type": "display_data"
    }
   ],
   "source": [
    "plt.figure(figsize=(9, 8))\n",
    "barplot = sns.barplot(x = 'algo', y = 'accuracy(wasting) %', data = allAccuWast)\n",
    "plt.title('all wasting accuracy comparison:\\n--------------------------------------------\\n')"
   ]
  },
  {
   "cell_type": "code",
   "execution_count": 32,
   "metadata": {},
   "outputs": [],
   "source": [
    "# -----------------------------------------------------------------------------------------\n",
    "# 2. Probability of having stunning, wasting and underweight respect to mother’s education\n",
    "# -----------------------------------------------------------------------------------------"
   ]
  },
  {
   "cell_type": "code",
   "execution_count": 37,
   "metadata": {},
   "outputs": [],
   "source": [
    "# df.groupby('Mother_edu').mean()['stunting']*100\n",
    "\n",
    "stun1 = df.groupby([\"Mother_edu\", \"stunting\"]).size().reset_index(name=\"Time\")"
   ]
  },
  {
   "cell_type": "code",
   "execution_count": 38,
   "metadata": {},
   "outputs": [
    {
     "data": {
      "text/html": [
       "<div>\n",
       "<style scoped>\n",
       "    .dataframe tbody tr th:only-of-type {\n",
       "        vertical-align: middle;\n",
       "    }\n",
       "\n",
       "    .dataframe tbody tr th {\n",
       "        vertical-align: top;\n",
       "    }\n",
       "\n",
       "    .dataframe thead th {\n",
       "        text-align: right;\n",
       "    }\n",
       "</style>\n",
       "<table border=\"1\" class=\"dataframe\">\n",
       "  <thead>\n",
       "    <tr style=\"text-align: right;\">\n",
       "      <th></th>\n",
       "      <th>Mother_edu</th>\n",
       "      <th>stunting</th>\n",
       "      <th>Time</th>\n",
       "    </tr>\n",
       "  </thead>\n",
       "  <tbody>\n",
       "    <tr>\n",
       "      <th>0</th>\n",
       "      <td>no</td>\n",
       "      <td>0</td>\n",
       "      <td>1619</td>\n",
       "    </tr>\n",
       "    <tr>\n",
       "      <th>1</th>\n",
       "      <td>no</td>\n",
       "      <td>1</td>\n",
       "      <td>1391</td>\n",
       "    </tr>\n",
       "    <tr>\n",
       "      <th>2</th>\n",
       "      <td>yes</td>\n",
       "      <td>0</td>\n",
       "      <td>2831</td>\n",
       "    </tr>\n",
       "    <tr>\n",
       "      <th>3</th>\n",
       "      <td>yes</td>\n",
       "      <td>1</td>\n",
       "      <td>1124</td>\n",
       "    </tr>\n",
       "  </tbody>\n",
       "</table>\n",
       "</div>"
      ],
      "text/plain": [
       "  Mother_edu  stunting  Time\n",
       "0         no         0  1619\n",
       "1         no         1  1391\n",
       "2        yes         0  2831\n",
       "3        yes         1  1124"
      ]
     },
     "execution_count": 38,
     "metadata": {},
     "output_type": "execute_result"
    }
   ],
   "source": [
    "stun1"
   ]
  },
  {
   "cell_type": "code",
   "execution_count": 39,
   "metadata": {},
   "outputs": [
    {
     "name": "stdout",
     "output_type": "stream",
     "text": [
      "mother education \"no\", stunting \"no\":  53.78737541528239 %\n",
      "-------------------------------------------------------------\n",
      "mother education \"no\", stunting \"yes\":  46.21262458471761 %\n",
      "-------------------------------------------------------------\n",
      "mother education \"yes\", stunting \"no\":  71.5802781289507 %\n",
      "-------------------------------------------------------------\n",
      "mother education \"yes\", stunting \"yes\":  28.419721871049305 %\n"
     ]
    }
   ],
   "source": [
    "print('mother education \"no\", stunting \"no\": ', (1619*100)/3010, '%')\n",
    "print('-------------------------------------------------------------')\n",
    "print('mother education \"no\", stunting \"yes\": ', (1391*100)/3010, '%')\n",
    "print('-------------------------------------------------------------')\n",
    "print('mother education \"yes\", stunting \"no\": ', (2831*100)/3955, '%')\n",
    "print('-------------------------------------------------------------')\n",
    "print('mother education \"yes\", stunting \"yes\": ', (1124*100)/3955, '%')"
   ]
  },
  {
   "cell_type": "code",
   "execution_count": 40,
   "metadata": {},
   "outputs": [
    {
     "data": {
      "text/plain": [
       "Text(0.5, 1.0, 'stunting with respect to mother education:\\n--------------------------------------------\\n')"
      ]
     },
     "execution_count": 40,
     "metadata": {},
     "output_type": "execute_result"
    },
    {
     "data": {
      "image/png": "[encoded data removed]",
      "text/plain": [
       "<Figure size 504x360 with 1 Axes>"
      ]
     },
     "metadata": {
      "needs_background": "light"
     },
     "output_type": "display_data"
    }
   ],
   "source": [
    "plt.figure(figsize=(7,5))\n",
    "stun_moth_edu = sns.barplot(x = 'stunting', y = 'Time', data = stun1, hue = 'Mother_edu')\n",
    "plt.title('stunting with respect to mother education:\\n--------------------------------------------\\n')"
   ]
  },
  {
   "cell_type": "code",
   "execution_count": 41,
   "metadata": {},
   "outputs": [],
   "source": [
    "und1 = df.groupby([\"Mother_edu\", \"underweight\"]).size().reset_index(name=\"Time\")"
   ]
  },
  {
   "cell_type": "code",
   "execution_count": 42,
   "metadata": {},
   "outputs": [
    {
     "data": {
      "text/html": [
       "<div>\n",
       "<style scoped>\n",
       "    .dataframe tbody tr th:only-of-type {\n",
       "        vertical-align: middle;\n",
       "    }\n",
       "\n",
       "    .dataframe tbody tr th {\n",
       "        vertical-align: top;\n",
       "    }\n",
       "\n",
       "    .dataframe thead th {\n",
       "        text-align: right;\n",
       "    }\n",
       "</style>\n",
       "<table border=\"1\" class=\"dataframe\">\n",
       "  <thead>\n",
       "    <tr style=\"text-align: right;\">\n",
       "      <th></th>\n",
       "      <th>Mother_edu</th>\n",
       "      <th>underweight</th>\n",
       "      <th>Time</th>\n",
       "    </tr>\n",
       "  </thead>\n",
       "  <tbody>\n",
       "    <tr>\n",
       "      <th>0</th>\n",
       "      <td>no</td>\n",
       "      <td>0</td>\n",
       "      <td>1791</td>\n",
       "    </tr>\n",
       "    <tr>\n",
       "      <th>1</th>\n",
       "      <td>no</td>\n",
       "      <td>1</td>\n",
       "      <td>1219</td>\n",
       "    </tr>\n",
       "    <tr>\n",
       "      <th>2</th>\n",
       "      <td>yes</td>\n",
       "      <td>0</td>\n",
       "      <td>2936</td>\n",
       "    </tr>\n",
       "    <tr>\n",
       "      <th>3</th>\n",
       "      <td>yes</td>\n",
       "      <td>1</td>\n",
       "      <td>1019</td>\n",
       "    </tr>\n",
       "  </tbody>\n",
       "</table>\n",
       "</div>"
      ],
      "text/plain": [
       "  Mother_edu  underweight  Time\n",
       "0         no            0  1791\n",
       "1         no            1  1219\n",
       "2        yes            0  2936\n",
       "3        yes            1  1019"
      ]
     },
     "execution_count": 42,
     "metadata": {},
     "output_type": "execute_result"
    }
   ],
   "source": [
    "und1"
   ]
  },
  {
   "cell_type": "code",
   "execution_count": 43,
   "metadata": {},
   "outputs": [
    {
     "name": "stdout",
     "output_type": "stream",
     "text": [
      "mother education \"no\", underweight \"no\":  59.501661129568106 %\n",
      "-------------------------------------------------------------\n",
      "mother education \"no\", underweight \"yes\":  40.498338870431894 %\n",
      "-------------------------------------------------------------\n",
      "mother education \"yes\", underweight \"no\":  74.23514538558787 %\n",
      "-------------------------------------------------------------\n",
      "mother education \"yes\", underweight \"yes\":  25.764854614412137 %\n"
     ]
    }
   ],
   "source": [
    "print('mother education \"no\", underweight \"no\": ', (1791*100)/3010, '%')\n",
    "print('-------------------------------------------------------------')\n",
    "print('mother education \"no\", underweight \"yes\": ', (1219*100)/3010, '%')\n",
    "print('-------------------------------------------------------------')\n",
    "print('mother education \"yes\", underweight \"no\": ', (2936*100)/3955, '%')\n",
    "print('-------------------------------------------------------------')\n",
    "print('mother education \"yes\", underweight \"yes\": ', (1019*100)/3955, '%')"
   ]
  },
  {
   "cell_type": "code",
   "execution_count": 44,
   "metadata": {},
   "outputs": [
    {
     "data": {
      "text/plain": [
       "Text(0.5, 1.0, 'underweight with respect to mother education:\\n--------------------------------------------\\n')"
      ]
     },
     "execution_count": 44,
     "metadata": {},
     "output_type": "execute_result"
    },
    {
     "data": {
      "image/png": "[encoded data removed]",
      "text/plain": [
       "<Figure size 504x360 with 1 Axes>"
      ]
     },
     "metadata": {
      "needs_background": "light"
     },
     "output_type": "display_data"
    }
   ],
   "source": [
    "plt.figure(figsize=(7,5))\n",
    "und_moth_edu = sns.barplot(x = 'underweight', y = 'Time', data = und1, hue = 'Mother_edu')\n",
    "plt.title('underweight with respect to mother education:\\n--------------------------------------------\\n')"
   ]
  },
  {
   "cell_type": "code",
   "execution_count": 45,
   "metadata": {},
   "outputs": [],
   "source": [
    "was1 = df.groupby([\"Mother_edu\", \"wasting\"]).size().reset_index(name=\"Time\")"
   ]
  },
  {
   "cell_type": "code",
   "execution_count": 46,
   "metadata": {},
   "outputs": [
    {
     "data": {
      "text/html": [
       "<div>\n",
       "<style scoped>\n",
       "    .dataframe tbody tr th:only-of-type {\n",
       "        vertical-align: middle;\n",
       "    }\n",
       "\n",
       "    .dataframe tbody tr th {\n",
       "        vertical-align: top;\n",
       "    }\n",
       "\n",
       "    .dataframe thead th {\n",
       "        text-align: right;\n",
       "    }\n",
       "</style>\n",
       "<table border=\"1\" class=\"dataframe\">\n",
       "  <thead>\n",
       "    <tr style=\"text-align: right;\">\n",
       "      <th></th>\n",
       "      <th>Mother_edu</th>\n",
       "      <th>wasting</th>\n",
       "      <th>Time</th>\n",
       "    </tr>\n",
       "  </thead>\n",
       "  <tbody>\n",
       "    <tr>\n",
       "      <th>0</th>\n",
       "      <td>no</td>\n",
       "      <td>0</td>\n",
       "      <td>2534</td>\n",
       "    </tr>\n",
       "    <tr>\n",
       "      <th>1</th>\n",
       "      <td>no</td>\n",
       "      <td>1</td>\n",
       "      <td>476</td>\n",
       "    </tr>\n",
       "    <tr>\n",
       "      <th>2</th>\n",
       "      <td>yes</td>\n",
       "      <td>0</td>\n",
       "      <td>3444</td>\n",
       "    </tr>\n",
       "    <tr>\n",
       "      <th>3</th>\n",
       "      <td>yes</td>\n",
       "      <td>1</td>\n",
       "      <td>511</td>\n",
       "    </tr>\n",
       "  </tbody>\n",
       "</table>\n",
       "</div>"
      ],
      "text/plain": [
       "  Mother_edu  wasting  Time\n",
       "0         no        0  2534\n",
       "1         no        1   476\n",
       "2        yes        0  3444\n",
       "3        yes        1   511"
      ]
     },
     "execution_count": 46,
     "metadata": {},
     "output_type": "execute_result"
    }
   ],
   "source": [
    "was1"
   ]
  },
  {
   "cell_type": "code",
   "execution_count": 47,
   "metadata": {},
   "outputs": [
    {
     "name": "stdout",
     "output_type": "stream",
     "text": [
      "mother education \"no\", wasting \"no\":  84.18604651162791 %\n",
      "-------------------------------------------------------------\n",
      "mother education \"no\", wasting \"yes\":  15.813953488372093 %\n",
      "-------------------------------------------------------------\n",
      "mother education \"yes\", wasting \"no\":  87.07964601769912 %\n",
      "-------------------------------------------------------------\n",
      "mother education \"yes\", wasting \"yes\":  12.920353982300885 %\n"
     ]
    }
   ],
   "source": [
    "print('mother education \"no\", wasting \"no\": ', (2534*100)/3010, '%')\n",
    "print('-------------------------------------------------------------')\n",
    "print('mother education \"no\", wasting \"yes\": ', (476*100)/3010, '%')\n",
    "print('-------------------------------------------------------------')\n",
    "print('mother education \"yes\", wasting \"no\": ', (3444*100)/3955, '%')\n",
    "print('-------------------------------------------------------------')\n",
    "print('mother education \"yes\", wasting \"yes\": ', (511*100)/3955, '%')"
   ]
  },
  {
   "cell_type": "code",
   "execution_count": 48,
   "metadata": {},
   "outputs": [
    {
     "data": {
      "text/plain": [
       "Text(0.5, 1.0, 'wasting with respect to mother education:\\n--------------------------------------------\\n')"
      ]
     },
     "execution_count": 48,
     "metadata": {},
     "output_type": "execute_result"
    },
    {
     "data": {
      "image/png": "[encoded data removed]",
      "text/plain": [
       "<Figure size 504x360 with 1 Axes>"
      ]
     },
     "metadata": {
      "needs_background": "light"
     },
     "output_type": "display_data"
    }
   ],
   "source": [
    "plt.figure(figsize=(7,5))\n",
    "was_moth_edu = sns.barplot(x = 'wasting', y = 'Time', data = was1, hue = 'Mother_edu')\n",
    "plt.title('wasting with respect to mother education:\\n--------------------------------------------\\n')"
   ]
  },
  {
   "cell_type": "code",
   "execution_count": 49,
   "metadata": {},
   "outputs": [],
   "source": [
    "# -----------------------------------------------------------------------------------------\n",
    "# 3. Probability of having stunning, wasting and underweight respect to birth_order( previous child )\n",
    "# -----------------------------------------------------------------------------------------"
   ]
  },
  {
   "cell_type": "code",
   "execution_count": 50,
   "metadata": {},
   "outputs": [],
   "source": [
    "stun2 = df.groupby([\"Birth_Order\", \"stunting\"]).size().reset_index(name=\"Time\")"
   ]
  },
  {
   "cell_type": "code",
   "execution_count": 51,
   "metadata": {},
   "outputs": [
    {
     "data": {
      "text/html": [
       "<div>\n",
       "<style scoped>\n",
       "    .dataframe tbody tr th:only-of-type {\n",
       "        vertical-align: middle;\n",
       "    }\n",
       "\n",
       "    .dataframe tbody tr th {\n",
       "        vertical-align: top;\n",
       "    }\n",
       "\n",
       "    .dataframe thead th {\n",
       "        text-align: right;\n",
       "    }\n",
       "</style>\n",
       "<table border=\"1\" class=\"dataframe\">\n",
       "  <thead>\n",
       "    <tr style=\"text-align: right;\">\n",
       "      <th></th>\n",
       "      <th>Birth_Order</th>\n",
       "      <th>stunting</th>\n",
       "      <th>Time</th>\n",
       "    </tr>\n",
       "  </thead>\n",
       "  <tbody>\n",
       "    <tr>\n",
       "      <th>0</th>\n",
       "      <td>1</td>\n",
       "      <td>0</td>\n",
       "      <td>1832</td>\n",
       "    </tr>\n",
       "    <tr>\n",
       "      <th>1</th>\n",
       "      <td>1</td>\n",
       "      <td>1</td>\n",
       "      <td>868</td>\n",
       "    </tr>\n",
       "    <tr>\n",
       "      <th>2</th>\n",
       "      <td>2</td>\n",
       "      <td>0</td>\n",
       "      <td>1368</td>\n",
       "    </tr>\n",
       "    <tr>\n",
       "      <th>3</th>\n",
       "      <td>2</td>\n",
       "      <td>1</td>\n",
       "      <td>723</td>\n",
       "    </tr>\n",
       "    <tr>\n",
       "      <th>4</th>\n",
       "      <td>3</td>\n",
       "      <td>0</td>\n",
       "      <td>1250</td>\n",
       "    </tr>\n",
       "    <tr>\n",
       "      <th>5</th>\n",
       "      <td>3</td>\n",
       "      <td>1</td>\n",
       "      <td>924</td>\n",
       "    </tr>\n",
       "  </tbody>\n",
       "</table>\n",
       "</div>"
      ],
      "text/plain": [
       "   Birth_Order  stunting  Time\n",
       "0            1         0  1832\n",
       "1            1         1   868\n",
       "2            2         0  1368\n",
       "3            2         1   723\n",
       "4            3         0  1250\n",
       "5            3         1   924"
      ]
     },
     "execution_count": 51,
     "metadata": {},
     "output_type": "execute_result"
    }
   ],
   "source": [
    "stun2"
   ]
  },
  {
   "cell_type": "code",
   "execution_count": 52,
   "metadata": {},
   "outputs": [
    {
     "name": "stdout",
     "output_type": "stream",
     "text": [
      "Birth_Order \"1\", stunting \"no\":  67.85185185185185 %\n",
      "-------------------------------------------------------------\n",
      "Birth_Order \"1\", stunting \"yes\":  32.148148148148145 %\n",
      "-------------------------------------------------------------\n",
      "Birth_Order \"2\", stunting \"no\":  65.4232424677188 %\n",
      "-------------------------------------------------------------\n",
      "Birth_Order \"2\", stunting \"yes\":  34.576757532281206 %\n",
      "-------------------------------------------------------------\n",
      "Birth_Order \"3\", stunting \"no\":  57.49770009199632 %\n",
      "-------------------------------------------------------------\n",
      "Birth_Order \"3\", stunting \"yes\":  42.50229990800368 %\n"
     ]
    }
   ],
   "source": [
    "print('Birth_Order \"1\", stunting \"no\": ', (1832*100)/2700, '%')\n",
    "print('-------------------------------------------------------------')\n",
    "print('Birth_Order \"1\", stunting \"yes\": ', (868*100)/2700, '%')\n",
    "print('-------------------------------------------------------------')\n",
    "print('Birth_Order \"2\", stunting \"no\": ', (1368*100)/2091, '%')\n",
    "print('-------------------------------------------------------------')\n",
    "print('Birth_Order \"2\", stunting \"yes\": ', (723*100)/2091, '%')\n",
    "print('-------------------------------------------------------------')\n",
    "print('Birth_Order \"3\", stunting \"no\": ', (1250*100)/2174, '%')\n",
    "print('-------------------------------------------------------------')\n",
    "print('Birth_Order \"3\", stunting \"yes\": ', (924*100)/2174, '%')"
   ]
  },
  {
   "cell_type": "code",
   "execution_count": 53,
   "metadata": {},
   "outputs": [
    {
     "data": {
      "text/plain": [
       "Text(0.5, 1.0, 'stunting with respect to previous child (birth order):\\n--------------------------------------------\\n')"
      ]
     },
     "execution_count": 53,
     "metadata": {},
     "output_type": "execute_result"
    },
    {
     "data": {
      "image/png": "[encoded data removed]",
      "text/plain": [
       "<Figure size 504x360 with 1 Axes>"
      ]
     },
     "metadata": {
      "needs_background": "light"
     },
     "output_type": "display_data"
    }
   ],
   "source": [
    "plt.figure(figsize=(7,5))\n",
    "stun_prev_child = sns.barplot(x = 'stunting', y = 'Time', data = stun2, hue = 'Birth_Order')\n",
    "plt.title('stunting with respect to previous child (birth order):\\n--------------------------------------------\\n')"
   ]
  },
  {
   "cell_type": "code",
   "execution_count": 54,
   "metadata": {},
   "outputs": [],
   "source": [
    "und2 = df.groupby([\"Birth_Order\", \"underweight\"]).size().reset_index(name=\"Time\")"
   ]
  },
  {
   "cell_type": "code",
   "execution_count": 55,
   "metadata": {},
   "outputs": [
    {
     "data": {
      "text/html": [
       "<div>\n",
       "<style scoped>\n",
       "    .dataframe tbody tr th:only-of-type {\n",
       "        vertical-align: middle;\n",
       "    }\n",
       "\n",
       "    .dataframe tbody tr th {\n",
       "        vertical-align: top;\n",
       "    }\n",
       "\n",
       "    .dataframe thead th {\n",
       "        text-align: right;\n",
       "    }\n",
       "</style>\n",
       "<table border=\"1\" class=\"dataframe\">\n",
       "  <thead>\n",
       "    <tr style=\"text-align: right;\">\n",
       "      <th></th>\n",
       "      <th>Birth_Order</th>\n",
       "      <th>underweight</th>\n",
       "      <th>Time</th>\n",
       "    </tr>\n",
       "  </thead>\n",
       "  <tbody>\n",
       "    <tr>\n",
       "      <th>0</th>\n",
       "      <td>1</td>\n",
       "      <td>0</td>\n",
       "      <td>1895</td>\n",
       "    </tr>\n",
       "    <tr>\n",
       "      <th>1</th>\n",
       "      <td>1</td>\n",
       "      <td>1</td>\n",
       "      <td>805</td>\n",
       "    </tr>\n",
       "    <tr>\n",
       "      <th>2</th>\n",
       "      <td>2</td>\n",
       "      <td>0</td>\n",
       "      <td>1459</td>\n",
       "    </tr>\n",
       "    <tr>\n",
       "      <th>3</th>\n",
       "      <td>2</td>\n",
       "      <td>1</td>\n",
       "      <td>632</td>\n",
       "    </tr>\n",
       "    <tr>\n",
       "      <th>4</th>\n",
       "      <td>3</td>\n",
       "      <td>0</td>\n",
       "      <td>1373</td>\n",
       "    </tr>\n",
       "    <tr>\n",
       "      <th>5</th>\n",
       "      <td>3</td>\n",
       "      <td>1</td>\n",
       "      <td>801</td>\n",
       "    </tr>\n",
       "  </tbody>\n",
       "</table>\n",
       "</div>"
      ],
      "text/plain": [
       "   Birth_Order  underweight  Time\n",
       "0            1            0  1895\n",
       "1            1            1   805\n",
       "2            2            0  1459\n",
       "3            2            1   632\n",
       "4            3            0  1373\n",
       "5            3            1   801"
      ]
     },
     "execution_count": 55,
     "metadata": {},
     "output_type": "execute_result"
    }
   ],
   "source": [
    "und2"
   ]
  },
  {
   "cell_type": "code",
   "execution_count": 56,
   "metadata": {},
   "outputs": [
    {
     "name": "stdout",
     "output_type": "stream",
     "text": [
      "Birth_Order \"1\", underweight \"no\":  70.18518518518519 %\n",
      "-------------------------------------------------------------\n",
      "Birth_Order \"1\", underweight \"yes\":  29.814814814814813 %\n",
      "-------------------------------------------------------------\n",
      "Birth_Order \"2\", underweight \"no\":  69.77522716403635 %\n",
      "-------------------------------------------------------------\n",
      "Birth_Order \"2\", underweight \"yes\":  30.224772835963655 %\n",
      "-------------------------------------------------------------\n",
      "Birth_Order \"3\", underweight \"no\":  63.155473781048755 %\n",
      "-------------------------------------------------------------\n",
      "Birth_Order \"3\", underweight \"yes\":  36.844526218951245 %\n"
     ]
    }
   ],
   "source": [
    "print('Birth_Order \"1\", underweight \"no\": ', (1895*100)/2700, '%')\n",
    "print('-------------------------------------------------------------')\n",
    "print('Birth_Order \"1\", underweight \"yes\": ', (805*100)/2700, '%')\n",
    "print('-------------------------------------------------------------')\n",
    "print('Birth_Order \"2\", underweight \"no\": ', (1459*100)/2091, '%')\n",
    "print('-------------------------------------------------------------')\n",
    "print('Birth_Order \"2\", underweight \"yes\": ', (632*100)/2091, '%')\n",
    "print('-------------------------------------------------------------')\n",
    "print('Birth_Order \"3\", underweight \"no\": ', (1373*100)/2174, '%')\n",
    "print('-------------------------------------------------------------')\n",
    "print('Birth_Order \"3\", underweight \"yes\": ', (801*100)/2174, '%')"
   ]
  },
  {
   "cell_type": "code",
   "execution_count": 57,
   "metadata": {},
   "outputs": [
    {
     "data": {
      "text/plain": [
       "Text(0.5, 1.0, 'underweight with respect to previous child (birth order):\\n--------------------------------------------\\n')"
      ]
     },
     "execution_count": 57,
     "metadata": {},
     "output_type": "execute_result"
    },
    {
     "data": {
      "image/png": "[encoded data removed]",
      "text/plain": [
       "<Figure size 504x360 with 1 Axes>"
      ]
     },
     "metadata": {
      "needs_background": "light"
     },
     "output_type": "display_data"
    }
   ],
   "source": [
    "plt.figure(figsize=(7,5))\n",
    "und_prev_child = sns.barplot(x = 'underweight', y = 'Time', data = und2, hue = 'Birth_Order')\n",
    "plt.title('underweight with respect to previous child (birth order):\\n--------------------------------------------\\n')"
   ]
  },
  {
   "cell_type": "code",
   "execution_count": 58,
   "metadata": {},
   "outputs": [],
   "source": [
    "was2 = df.groupby([\"Birth_Order\", \"wasting\"]).size().reset_index(name=\"Time\")"
   ]
  },
  {
   "cell_type": "code",
   "execution_count": 59,
   "metadata": {},
   "outputs": [
    {
     "data": {
      "text/html": [
       "<div>\n",
       "<style scoped>\n",
       "    .dataframe tbody tr th:only-of-type {\n",
       "        vertical-align: middle;\n",
       "    }\n",
       "\n",
       "    .dataframe tbody tr th {\n",
       "        vertical-align: top;\n",
       "    }\n",
       "\n",
       "    .dataframe thead th {\n",
       "        text-align: right;\n",
       "    }\n",
       "</style>\n",
       "<table border=\"1\" class=\"dataframe\">\n",
       "  <thead>\n",
       "    <tr style=\"text-align: right;\">\n",
       "      <th></th>\n",
       "      <th>Birth_Order</th>\n",
       "      <th>wasting</th>\n",
       "      <th>Time</th>\n",
       "    </tr>\n",
       "  </thead>\n",
       "  <tbody>\n",
       "    <tr>\n",
       "      <th>0</th>\n",
       "      <td>1</td>\n",
       "      <td>0</td>\n",
       "      <td>2320</td>\n",
       "    </tr>\n",
       "    <tr>\n",
       "      <th>1</th>\n",
       "      <td>1</td>\n",
       "      <td>1</td>\n",
       "      <td>380</td>\n",
       "    </tr>\n",
       "    <tr>\n",
       "      <th>2</th>\n",
       "      <td>2</td>\n",
       "      <td>0</td>\n",
       "      <td>1802</td>\n",
       "    </tr>\n",
       "    <tr>\n",
       "      <th>3</th>\n",
       "      <td>2</td>\n",
       "      <td>1</td>\n",
       "      <td>289</td>\n",
       "    </tr>\n",
       "    <tr>\n",
       "      <th>4</th>\n",
       "      <td>3</td>\n",
       "      <td>0</td>\n",
       "      <td>1856</td>\n",
       "    </tr>\n",
       "    <tr>\n",
       "      <th>5</th>\n",
       "      <td>3</td>\n",
       "      <td>1</td>\n",
       "      <td>318</td>\n",
       "    </tr>\n",
       "  </tbody>\n",
       "</table>\n",
       "</div>"
      ],
      "text/plain": [
       "   Birth_Order  wasting  Time\n",
       "0            1        0  2320\n",
       "1            1        1   380\n",
       "2            2        0  1802\n",
       "3            2        1   289\n",
       "4            3        0  1856\n",
       "5            3        1   318"
      ]
     },
     "execution_count": 59,
     "metadata": {},
     "output_type": "execute_result"
    }
   ],
   "source": [
    "was2"
   ]
  },
  {
   "cell_type": "code",
   "execution_count": 60,
   "metadata": {},
   "outputs": [
    {
     "name": "stdout",
     "output_type": "stream",
     "text": [
      "Birth_Order \"1\", wasting \"no\":  85.92592592592592 %\n",
      "-------------------------------------------------------------\n",
      "Birth_Order \"1\", wasting \"yes\":  14.074074074074074 %\n",
      "-------------------------------------------------------------\n",
      "Birth_Order \"2\", wasting \"no\":  86.17886178861788 %\n",
      "-------------------------------------------------------------\n",
      "Birth_Order \"2\", wasting \"yes\":  13.821138211382113 %\n",
      "-------------------------------------------------------------\n",
      "Birth_Order \"3\", wasting \"no\":  85.37258509659614 %\n",
      "-------------------------------------------------------------\n",
      "Birth_Order \"3\", wasting \"yes\":  14.627414903403864 %\n"
     ]
    }
   ],
   "source": [
    "print('Birth_Order \"1\", wasting \"no\": ', (2320*100)/2700, '%')\n",
    "print('-------------------------------------------------------------')\n",
    "print('Birth_Order \"1\", wasting \"yes\": ', (380*100)/2700, '%')\n",
    "print('-------------------------------------------------------------')\n",
    "print('Birth_Order \"2\", wasting \"no\": ', (1802*100)/2091, '%')\n",
    "print('-------------------------------------------------------------')\n",
    "print('Birth_Order \"2\", wasting \"yes\": ', (289*100)/2091, '%')\n",
    "print('-------------------------------------------------------------')\n",
    "print('Birth_Order \"3\", wasting \"no\": ', (1856*100)/2174, '%')\n",
    "print('-------------------------------------------------------------')\n",
    "print('Birth_Order \"3\", wasting \"yes\": ', (318*100)/2174, '%')"
   ]
  },
  {
   "cell_type": "code",
   "execution_count": 61,
   "metadata": {},
   "outputs": [
    {
     "data": {
      "text/plain": [
       "Text(0.5, 1.0, 'wasting with respect to previous child (birth order):\\n--------------------------------------------\\n')"
      ]
     },
     "execution_count": 61,
     "metadata": {},
     "output_type": "execute_result"
    },
    {
     "data": {
      "image/png": "[encoded data removed]",
      "text/plain": [
       "<Figure size 504x360 with 1 Axes>"
      ]
     },
     "metadata": {
      "needs_background": "light"
     },
     "output_type": "display_data"
    }
   ],
   "source": [
    "plt.figure(figsize=(7,5))\n",
    "was_prev_child = sns.barplot(x = 'wasting', y = 'Time', data = was2, hue = 'Birth_Order')\n",
    "plt.title('wasting with respect to previous child (birth order):\\n--------------------------------------------\\n')"
   ]
  },
  {
   "cell_type": "code",
   "execution_count": 62,
   "metadata": {},
   "outputs": [],
   "source": [
    "# -----------------------------------------------------------------------------------------\n",
    "# 4. Probability of having stunning, wasting and underweight respect to breastfeeding     |\n",
    "# -----------------------------------------------------------------------------------------"
   ]
  },
  {
   "cell_type": "code",
   "execution_count": 63,
   "metadata": {},
   "outputs": [],
   "source": [
    "stun3 = df.groupby([\"Breastfeeding\", \"stunting\"]).size().reset_index(name=\"Time\")"
   ]
  },
  {
   "cell_type": "code",
   "execution_count": 64,
   "metadata": {},
   "outputs": [
    {
     "data": {
      "text/html": [
       "<div>\n",
       "<style scoped>\n",
       "    .dataframe tbody tr th:only-of-type {\n",
       "        vertical-align: middle;\n",
       "    }\n",
       "\n",
       "    .dataframe tbody tr th {\n",
       "        vertical-align: top;\n",
       "    }\n",
       "\n",
       "    .dataframe thead th {\n",
       "        text-align: right;\n",
       "    }\n",
       "</style>\n",
       "<table border=\"1\" class=\"dataframe\">\n",
       "  <thead>\n",
       "    <tr style=\"text-align: right;\">\n",
       "      <th></th>\n",
       "      <th>Breastfeeding</th>\n",
       "      <th>stunting</th>\n",
       "      <th>Time</th>\n",
       "    </tr>\n",
       "  </thead>\n",
       "  <tbody>\n",
       "    <tr>\n",
       "      <th>0</th>\n",
       "      <td>no</td>\n",
       "      <td>0</td>\n",
       "      <td>1738</td>\n",
       "    </tr>\n",
       "    <tr>\n",
       "      <th>1</th>\n",
       "      <td>no</td>\n",
       "      <td>1</td>\n",
       "      <td>1103</td>\n",
       "    </tr>\n",
       "    <tr>\n",
       "      <th>2</th>\n",
       "      <td>yes</td>\n",
       "      <td>0</td>\n",
       "      <td>2712</td>\n",
       "    </tr>\n",
       "    <tr>\n",
       "      <th>3</th>\n",
       "      <td>yes</td>\n",
       "      <td>1</td>\n",
       "      <td>1412</td>\n",
       "    </tr>\n",
       "  </tbody>\n",
       "</table>\n",
       "</div>"
      ],
      "text/plain": [
       "  Breastfeeding  stunting  Time\n",
       "0            no         0  1738\n",
       "1            no         1  1103\n",
       "2           yes         0  2712\n",
       "3           yes         1  1412"
      ]
     },
     "execution_count": 64,
     "metadata": {},
     "output_type": "execute_result"
    }
   ],
   "source": [
    "stun3"
   ]
  },
  {
   "cell_type": "code",
   "execution_count": 65,
   "metadata": {},
   "outputs": [
    {
     "name": "stdout",
     "output_type": "stream",
     "text": [
      "Breastfeeding \"no\", stunting \"no\":  61.17564237944386 %\n",
      "-------------------------------------------------------------\n",
      "Breastfeeding \"no\", stunting \"yes\":  38.82435762055614 %\n",
      "-------------------------------------------------------------\n",
      "Breastfeeding \"yes\", stunting \"no\":  65.76139670223084 %\n",
      "-------------------------------------------------------------\n",
      "Breastfeeding \"yes\", stunting \"yes\":  34.23860329776915 %\n"
     ]
    }
   ],
   "source": [
    "print('Breastfeeding \"no\", stunting \"no\": ', (1738*100)/2841, '%')\n",
    "print('-------------------------------------------------------------')\n",
    "print('Breastfeeding \"no\", stunting \"yes\": ', (1103*100)/2841, '%')\n",
    "print('-------------------------------------------------------------')\n",
    "print('Breastfeeding \"yes\", stunting \"no\": ', (2712*100)/4124, '%')\n",
    "print('-------------------------------------------------------------')\n",
    "print('Breastfeeding \"yes\", stunting \"yes\": ', (1412*100)/4124, '%')"
   ]
  },
  {
   "cell_type": "code",
   "execution_count": 66,
   "metadata": {},
   "outputs": [
    {
     "data": {
      "text/plain": [
       "Text(0.5, 1.0, 'stunting with respect to Breastfeeding:\\n--------------------------------------------\\n')"
      ]
     },
     "execution_count": 66,
     "metadata": {},
     "output_type": "execute_result"
    },
    {
     "data": {
      "image/png": "[encoded data removed]",
      "text/plain": [
       "<Figure size 504x360 with 1 Axes>"
      ]
     },
     "metadata": {
      "needs_background": "light"
     },
     "output_type": "display_data"
    }
   ],
   "source": [
    "plt.figure(figsize=(7,5))\n",
    "stun_breastfeeding = sns.barplot(x = 'stunting', y = 'Time', data = stun3, hue = 'Breastfeeding')\n",
    "plt.title('stunting with respect to Breastfeeding:\\n--------------------------------------------\\n')"
   ]
  },
  {
   "cell_type": "code",
   "execution_count": 67,
   "metadata": {},
   "outputs": [],
   "source": [
    "und3 = df.groupby([\"Breastfeeding\", \"underweight\"]).size().reset_index(name=\"Time\")"
   ]
  },
  {
   "cell_type": "code",
   "execution_count": 68,
   "metadata": {},
   "outputs": [
    {
     "data": {
      "text/html": [
       "<div>\n",
       "<style scoped>\n",
       "    .dataframe tbody tr th:only-of-type {\n",
       "        vertical-align: middle;\n",
       "    }\n",
       "\n",
       "    .dataframe tbody tr th {\n",
       "        vertical-align: top;\n",
       "    }\n",
       "\n",
       "    .dataframe thead th {\n",
       "        text-align: right;\n",
       "    }\n",
       "</style>\n",
       "<table border=\"1\" class=\"dataframe\">\n",
       "  <thead>\n",
       "    <tr style=\"text-align: right;\">\n",
       "      <th></th>\n",
       "      <th>Breastfeeding</th>\n",
       "      <th>underweight</th>\n",
       "      <th>Time</th>\n",
       "    </tr>\n",
       "  </thead>\n",
       "  <tbody>\n",
       "    <tr>\n",
       "      <th>0</th>\n",
       "      <td>no</td>\n",
       "      <td>0</td>\n",
       "      <td>1881</td>\n",
       "    </tr>\n",
       "    <tr>\n",
       "      <th>1</th>\n",
       "      <td>no</td>\n",
       "      <td>1</td>\n",
       "      <td>960</td>\n",
       "    </tr>\n",
       "    <tr>\n",
       "      <th>2</th>\n",
       "      <td>yes</td>\n",
       "      <td>0</td>\n",
       "      <td>2846</td>\n",
       "    </tr>\n",
       "    <tr>\n",
       "      <th>3</th>\n",
       "      <td>yes</td>\n",
       "      <td>1</td>\n",
       "      <td>1278</td>\n",
       "    </tr>\n",
       "  </tbody>\n",
       "</table>\n",
       "</div>"
      ],
      "text/plain": [
       "  Breastfeeding  underweight  Time\n",
       "0            no            0  1881\n",
       "1            no            1   960\n",
       "2           yes            0  2846\n",
       "3           yes            1  1278"
      ]
     },
     "execution_count": 68,
     "metadata": {},
     "output_type": "execute_result"
    }
   ],
   "source": [
    "und3"
   ]
  },
  {
   "cell_type": "code",
   "execution_count": 69,
   "metadata": {},
   "outputs": [
    {
     "name": "stdout",
     "output_type": "stream",
     "text": [
      "Breastfeeding \"no\", underweight \"no\":  66.2090813093981 %\n",
      "-------------------------------------------------------------\n",
      "Breastfeeding \"no\", underweight \"yes\":  33.7909186906019 %\n",
      "-------------------------------------------------------------\n",
      "Breastfeeding \"yes\", underweight \"no\":  69.01066925315227 %\n",
      "-------------------------------------------------------------\n",
      "Breastfeeding \"yes\", underweight \"yes\":  30.98933074684772 %\n"
     ]
    }
   ],
   "source": [
    "print('Breastfeeding \"no\", underweight \"no\": ', (1881*100)/2841, '%')\n",
    "print('-------------------------------------------------------------')\n",
    "print('Breastfeeding \"no\", underweight \"yes\": ', (960*100)/2841, '%')\n",
    "print('-------------------------------------------------------------')\n",
    "print('Breastfeeding \"yes\", underweight \"no\": ', (2846*100)/4124, '%')\n",
    "print('-------------------------------------------------------------')\n",
    "print('Breastfeeding \"yes\", underweight \"yes\": ', (1278*100)/4124, '%')"
   ]
  },
  {
   "cell_type": "code",
   "execution_count": 70,
   "metadata": {},
   "outputs": [
    {
     "data": {
      "text/plain": [
       "Text(0.5, 1.0, 'underweight with respect to Breastfeeding:\\n--------------------------------------------\\n')"
      ]
     },
     "execution_count": 70,
     "metadata": {},
     "output_type": "execute_result"
    },
    {
     "data": {
      "image/png": "[encoded data removed]",
      "text/plain": [
       "<Figure size 504x360 with 1 Axes>"
      ]
     },
     "metadata": {
      "needs_background": "light"
     },
     "output_type": "display_data"
    }
   ],
   "source": [
    "plt.figure(figsize=(7,5))\n",
    "und_breastfeeding = sns.barplot(x = 'underweight', y = 'Time', data = und3, hue = 'Breastfeeding')\n",
    "plt.title('underweight with respect to Breastfeeding:\\n--------------------------------------------\\n')"
   ]
  },
  {
   "cell_type": "code",
   "execution_count": 71,
   "metadata": {},
   "outputs": [],
   "source": [
    "was3 = df.groupby([\"Breastfeeding\", \"wasting\"]).size().reset_index(name=\"Time\")"
   ]
  },
  {
   "cell_type": "code",
   "execution_count": 72,
   "metadata": {},
   "outputs": [
    {
     "data": {
      "text/html": [
       "<div>\n",
       "<style scoped>\n",
       "    .dataframe tbody tr th:only-of-type {\n",
       "        vertical-align: middle;\n",
       "    }\n",
       "\n",
       "    .dataframe tbody tr th {\n",
       "        vertical-align: top;\n",
       "    }\n",
       "\n",
       "    .dataframe thead th {\n",
       "        text-align: right;\n",
       "    }\n",
       "</style>\n",
       "<table border=\"1\" class=\"dataframe\">\n",
       "  <thead>\n",
       "    <tr style=\"text-align: right;\">\n",
       "      <th></th>\n",
       "      <th>Breastfeeding</th>\n",
       "      <th>wasting</th>\n",
       "      <th>Time</th>\n",
       "    </tr>\n",
       "  </thead>\n",
       "  <tbody>\n",
       "    <tr>\n",
       "      <th>0</th>\n",
       "      <td>no</td>\n",
       "      <td>0</td>\n",
       "      <td>2480</td>\n",
       "    </tr>\n",
       "    <tr>\n",
       "      <th>1</th>\n",
       "      <td>no</td>\n",
       "      <td>1</td>\n",
       "      <td>361</td>\n",
       "    </tr>\n",
       "    <tr>\n",
       "      <th>2</th>\n",
       "      <td>yes</td>\n",
       "      <td>0</td>\n",
       "      <td>3498</td>\n",
       "    </tr>\n",
       "    <tr>\n",
       "      <th>3</th>\n",
       "      <td>yes</td>\n",
       "      <td>1</td>\n",
       "      <td>626</td>\n",
       "    </tr>\n",
       "  </tbody>\n",
       "</table>\n",
       "</div>"
      ],
      "text/plain": [
       "  Breastfeeding  wasting  Time\n",
       "0            no        0  2480\n",
       "1            no        1   361\n",
       "2           yes        0  3498\n",
       "3           yes        1   626"
      ]
     },
     "execution_count": 72,
     "metadata": {},
     "output_type": "execute_result"
    }
   ],
   "source": [
    "was3"
   ]
  },
  {
   "cell_type": "code",
   "execution_count": 73,
   "metadata": {},
   "outputs": [
    {
     "name": "stdout",
     "output_type": "stream",
     "text": [
      "Breastfeeding \"no\", underweight \"no\":  87.29320661738825 %\n",
      "-------------------------------------------------------------\n",
      "Breastfeeding \"no\", underweight \"yes\":  12.706793382611757 %\n",
      "-------------------------------------------------------------\n",
      "Breastfeeding \"yes\", underweight \"no\":  84.82056256062076 %\n",
      "-------------------------------------------------------------\n",
      "Breastfeeding \"yes\", underweight \"yes\":  15.179437439379244 %\n"
     ]
    }
   ],
   "source": [
    "print('Breastfeeding \"no\", underweight \"no\": ', (2480*100)/2841, '%')\n",
    "print('-------------------------------------------------------------')\n",
    "print('Breastfeeding \"no\", underweight \"yes\": ', (361*100)/2841, '%')\n",
    "print('-------------------------------------------------------------')\n",
    "print('Breastfeeding \"yes\", underweight \"no\": ', (3498*100)/4124, '%')\n",
    "print('-------------------------------------------------------------')\n",
    "print('Breastfeeding \"yes\", underweight \"yes\": ', (626*100)/4124, '%')"
   ]
  },
  {
   "cell_type": "code",
   "execution_count": 74,
   "metadata": {},
   "outputs": [
    {
     "data": {
      "text/plain": [
       "Text(0.5, 1.0, 'wasting with respect to Breastfeeding:\\n--------------------------------------------\\n')"
      ]
     },
     "execution_count": 74,
     "metadata": {},
     "output_type": "execute_result"
    },
    {
     "data": {
      "image/png": "[encoded data removed]",
      "text/plain": [
       "<Figure size 504x360 with 1 Axes>"
      ]
     },
     "metadata": {
      "needs_background": "light"
     },
     "output_type": "display_data"
    }
   ],
   "source": [
    "plt.figure(figsize=(7,5))\n",
    "was_breastfeeding = sns.barplot(x = 'wasting', y = 'Time', data = was3, hue = 'Breastfeeding')\n",
    "plt.title('wasting with respect to Breastfeeding:\\n--------------------------------------------\\n')"
   ]
  },
  {
   "cell_type": "code",
   "execution_count": 75,
   "metadata": {},
   "outputs": [],
   "source": [
    "# -----------------------------------------------------------------------------------------\n",
    "# 5. don't need      |\n",
    "# -----------------------------------------------------------------------------------------"
   ]
  },
  {
   "cell_type": "code",
   "execution_count": 76,
   "metadata": {},
   "outputs": [],
   "source": [
    "# ------------------------------------------------------------------------------------------------------\n",
    "# 6. Probability of having stunning, wasting and underweight respect to mother’s currently working mode |\n",
    "# ------------------------------------------------------------------------------------------------------"
   ]
  },
  {
   "cell_type": "code",
   "execution_count": 77,
   "metadata": {},
   "outputs": [],
   "source": [
    "stun5 = df.groupby([\"currently_working_mot\", \"stunting\"]).size().reset_index(name=\"Time\")"
   ]
  },
  {
   "cell_type": "code",
   "execution_count": 78,
   "metadata": {},
   "outputs": [
    {
     "data": {
      "text/html": [
       "<div>\n",
       "<style scoped>\n",
       "    .dataframe tbody tr th:only-of-type {\n",
       "        vertical-align: middle;\n",
       "    }\n",
       "\n",
       "    .dataframe tbody tr th {\n",
       "        vertical-align: top;\n",
       "    }\n",
       "\n",
       "    .dataframe thead th {\n",
       "        text-align: right;\n",
       "    }\n",
       "</style>\n",
       "<table border=\"1\" class=\"dataframe\">\n",
       "  <thead>\n",
       "    <tr style=\"text-align: right;\">\n",
       "      <th></th>\n",
       "      <th>currently_working_mot</th>\n",
       "      <th>stunting</th>\n",
       "      <th>Time</th>\n",
       "    </tr>\n",
       "  </thead>\n",
       "  <tbody>\n",
       "    <tr>\n",
       "      <th>0</th>\n",
       "      <td>no</td>\n",
       "      <td>0</td>\n",
       "      <td>3386</td>\n",
       "    </tr>\n",
       "    <tr>\n",
       "      <th>1</th>\n",
       "      <td>no</td>\n",
       "      <td>1</td>\n",
       "      <td>1831</td>\n",
       "    </tr>\n",
       "    <tr>\n",
       "      <th>2</th>\n",
       "      <td>yes</td>\n",
       "      <td>0</td>\n",
       "      <td>1064</td>\n",
       "    </tr>\n",
       "    <tr>\n",
       "      <th>3</th>\n",
       "      <td>yes</td>\n",
       "      <td>1</td>\n",
       "      <td>683</td>\n",
       "    </tr>\n",
       "  </tbody>\n",
       "</table>\n",
       "</div>"
      ],
      "text/plain": [
       "  currently_working_mot  stunting  Time\n",
       "0                    no         0  3386\n",
       "1                    no         1  1831\n",
       "2                   yes         0  1064\n",
       "3                   yes         1   683"
      ]
     },
     "execution_count": 78,
     "metadata": {},
     "output_type": "execute_result"
    }
   ],
   "source": [
    "stun5"
   ]
  },
  {
   "cell_type": "code",
   "execution_count": 79,
   "metadata": {},
   "outputs": [
    {
     "name": "stdout",
     "output_type": "stream",
     "text": [
      "currently_working_mot \"no\", stunting \"no\":  36.05520414031052 %\n",
      "-------------------------------------------------------------\n",
      "currently_working_mot \"no\", stunting \"yes\":  18.401380103507762 %\n",
      "-------------------------------------------------------------\n",
      "currently_working_mot \"yes\", stunting \"no\":  162.90784201488265 %\n",
      "-------------------------------------------------------------\n",
      "currently_working_mot \"yes\", stunting \"yes\":  73.15397824842587 %\n"
     ]
    }
   ],
   "source": [
    "print('currently_working_mot \"no\", stunting \"no\": ', (1881*100)/5217, '%')\n",
    "print('-------------------------------------------------------------')\n",
    "print('currently_working_mot \"no\", stunting \"yes\": ', (960*100)/5217, '%')\n",
    "print('-------------------------------------------------------------')\n",
    "print('currently_working_mot \"yes\", stunting \"no\": ', (2846*100)/1747, '%')\n",
    "print('-------------------------------------------------------------')\n",
    "print('currently_working_mot \"yes\", stunting \"yes\": ', (1278*100)/1747, '%')"
   ]
  },
  {
   "cell_type": "code",
   "execution_count": 80,
   "metadata": {},
   "outputs": [
    {
     "data": {
      "text/plain": [
       "Text(0.5, 1.0, 'stunting with respect to currently_working_mot:\\n--------------------------------------------\\n')"
      ]
     },
     "execution_count": 80,
     "metadata": {},
     "output_type": "execute_result"
    },
    {
     "data": {
      "image/png": "[encoded data removed]",
      "text/plain": [
       "<Figure size 504x360 with 1 Axes>"
      ]
     },
     "metadata": {
      "needs_background": "light"
     },
     "output_type": "display_data"
    }
   ],
   "source": [
    "plt.figure(figsize=(7,5))\n",
    "stu_currently_working_mot = sns.barplot(x = 'stunting', y = 'Time', data = stun5, hue = 'currently_working_mot')\n",
    "plt.title('stunting with respect to currently_working_mot:\\n--------------------------------------------\\n')"
   ]
  },
  {
   "cell_type": "code",
   "execution_count": 81,
   "metadata": {},
   "outputs": [],
   "source": [
    "und5 = df.groupby([\"currently_working_mot\", \"underweight\"]).size().reset_index(name=\"Time\")"
   ]
  },
  {
   "cell_type": "code",
   "execution_count": 82,
   "metadata": {},
   "outputs": [
    {
     "data": {
      "text/html": [
       "<div>\n",
       "<style scoped>\n",
       "    .dataframe tbody tr th:only-of-type {\n",
       "        vertical-align: middle;\n",
       "    }\n",
       "\n",
       "    .dataframe tbody tr th {\n",
       "        vertical-align: top;\n",
       "    }\n",
       "\n",
       "    .dataframe thead th {\n",
       "        text-align: right;\n",
       "    }\n",
       "</style>\n",
       "<table border=\"1\" class=\"dataframe\">\n",
       "  <thead>\n",
       "    <tr style=\"text-align: right;\">\n",
       "      <th></th>\n",
       "      <th>currently_working_mot</th>\n",
       "      <th>underweight</th>\n",
       "      <th>Time</th>\n",
       "    </tr>\n",
       "  </thead>\n",
       "  <tbody>\n",
       "    <tr>\n",
       "      <th>0</th>\n",
       "      <td>no</td>\n",
       "      <td>0</td>\n",
       "      <td>3603</td>\n",
       "    </tr>\n",
       "    <tr>\n",
       "      <th>1</th>\n",
       "      <td>no</td>\n",
       "      <td>1</td>\n",
       "      <td>1614</td>\n",
       "    </tr>\n",
       "    <tr>\n",
       "      <th>2</th>\n",
       "      <td>yes</td>\n",
       "      <td>0</td>\n",
       "      <td>1124</td>\n",
       "    </tr>\n",
       "    <tr>\n",
       "      <th>3</th>\n",
       "      <td>yes</td>\n",
       "      <td>1</td>\n",
       "      <td>623</td>\n",
       "    </tr>\n",
       "  </tbody>\n",
       "</table>\n",
       "</div>"
      ],
      "text/plain": [
       "  currently_working_mot  underweight  Time\n",
       "0                    no            0  3603\n",
       "1                    no            1  1614\n",
       "2                   yes            0  1124\n",
       "3                   yes            1   623"
      ]
     },
     "execution_count": 82,
     "metadata": {},
     "output_type": "execute_result"
    }
   ],
   "source": [
    "und5"
   ]
  },
  {
   "cell_type": "code",
   "execution_count": 83,
   "metadata": {},
   "outputs": [
    {
     "name": "stdout",
     "output_type": "stream",
     "text": [
      "currently_working_mot \"no\", underweight \"no\":  69.06267970097757 %\n",
      "-------------------------------------------------------------\n",
      "currently_working_mot \"no\", underweight \"yes\":  30.937320299022428 %\n",
      "-------------------------------------------------------------\n",
      "currently_working_mot \"yes\", underweight \"no\":  64.33886662850601 %\n",
      "-------------------------------------------------------------\n",
      "currently_working_mot \"yes\", underweight \"yes\":  35.66113337149399 %\n"
     ]
    }
   ],
   "source": [
    "print('currently_working_mot \"no\", underweight \"no\": ', (3603*100)/5217, '%')\n",
    "print('-------------------------------------------------------------')\n",
    "print('currently_working_mot \"no\", underweight \"yes\": ', (1614*100)/5217, '%')\n",
    "print('-------------------------------------------------------------')\n",
    "print('currently_working_mot \"yes\", underweight \"no\": ', (1124*100)/1747, '%')\n",
    "print('-------------------------------------------------------------')\n",
    "print('currently_working_mot \"yes\", underweight \"yes\": ', (623*100)/1747, '%')"
   ]
  },
  {
   "cell_type": "code",
   "execution_count": 84,
   "metadata": {},
   "outputs": [
    {
     "data": {
      "text/plain": [
       "Text(0.5, 1.0, 'underweight with respect to currently_working_mot:\\n--------------------------------------------\\n')"
      ]
     },
     "execution_count": 84,
     "metadata": {},
     "output_type": "execute_result"
    },
    {
     "data": {
      "image/png": "[encoded data removed]",
      "text/plain": [
       "<Figure size 504x360 with 1 Axes>"
      ]
     },
     "metadata": {
      "needs_background": "light"
     },
     "output_type": "display_data"
    }
   ],
   "source": [
    "plt.figure(figsize=(7,5))\n",
    "und_currently_working_mot = sns.barplot(x = 'underweight', y = 'Time', data = und5, hue = 'currently_working_mot')\n",
    "plt.title('underweight with respect to currently_working_mot:\\n--------------------------------------------\\n')"
   ]
  },
  {
   "cell_type": "code",
   "execution_count": 85,
   "metadata": {},
   "outputs": [],
   "source": [
    "was5 = df.groupby([\"currently_working_mot\", \"wasting\"]).size().reset_index(name=\"Time\")"
   ]
  },
  {
   "cell_type": "code",
   "execution_count": 86,
   "metadata": {},
   "outputs": [
    {
     "data": {
      "text/html": [
       "<div>\n",
       "<style scoped>\n",
       "    .dataframe tbody tr th:only-of-type {\n",
       "        vertical-align: middle;\n",
       "    }\n",
       "\n",
       "    .dataframe tbody tr th {\n",
       "        vertical-align: top;\n",
       "    }\n",
       "\n",
       "    .dataframe thead th {\n",
       "        text-align: right;\n",
       "    }\n",
       "</style>\n",
       "<table border=\"1\" class=\"dataframe\">\n",
       "  <thead>\n",
       "    <tr style=\"text-align: right;\">\n",
       "      <th></th>\n",
       "      <th>currently_working_mot</th>\n",
       "      <th>wasting</th>\n",
       "      <th>Time</th>\n",
       "    </tr>\n",
       "  </thead>\n",
       "  <tbody>\n",
       "    <tr>\n",
       "      <th>0</th>\n",
       "      <td>no</td>\n",
       "      <td>0</td>\n",
       "      <td>4486</td>\n",
       "    </tr>\n",
       "    <tr>\n",
       "      <th>1</th>\n",
       "      <td>no</td>\n",
       "      <td>1</td>\n",
       "      <td>731</td>\n",
       "    </tr>\n",
       "    <tr>\n",
       "      <th>2</th>\n",
       "      <td>yes</td>\n",
       "      <td>0</td>\n",
       "      <td>1491</td>\n",
       "    </tr>\n",
       "    <tr>\n",
       "      <th>3</th>\n",
       "      <td>yes</td>\n",
       "      <td>1</td>\n",
       "      <td>256</td>\n",
       "    </tr>\n",
       "  </tbody>\n",
       "</table>\n",
       "</div>"
      ],
      "text/plain": [
       "  currently_working_mot  wasting  Time\n",
       "0                    no        0  4486\n",
       "1                    no        1   731\n",
       "2                   yes        0  1491\n",
       "3                   yes        1   256"
      ]
     },
     "execution_count": 86,
     "metadata": {},
     "output_type": "execute_result"
    }
   ],
   "source": [
    "was5"
   ]
  },
  {
   "cell_type": "code",
   "execution_count": 87,
   "metadata": {},
   "outputs": [
    {
     "name": "stdout",
     "output_type": "stream",
     "text": [
      "currently_working_mot \"no\", wasting \"no\":  85.98811577534981 %\n",
      "-------------------------------------------------------------\n",
      "currently_working_mot \"no\", wasting \"yes\":  14.011884224650181 %\n",
      "-------------------------------------------------------------\n",
      "currently_working_mot \"yes\", wasting \"no\":  85.34630795649686 %\n",
      "-------------------------------------------------------------\n",
      "currently_working_mot \"yes\", wasting \"yes\":  14.653692043503149 %\n"
     ]
    }
   ],
   "source": [
    "print('currently_working_mot \"no\", wasting \"no\": ', (4486*100)/5217, '%')\n",
    "print('-------------------------------------------------------------')\n",
    "print('currently_working_mot \"no\", wasting \"yes\": ', (731*100)/5217, '%')\n",
    "print('-------------------------------------------------------------')\n",
    "print('currently_working_mot \"yes\", wasting \"no\": ', (1491*100)/1747, '%')\n",
    "print('-------------------------------------------------------------')\n",
    "print('currently_working_mot \"yes\", wasting \"yes\": ', (256*100)/1747, '%')"
   ]
  },
  {
   "cell_type": "code",
   "execution_count": 88,
   "metadata": {},
   "outputs": [
    {
     "data": {
      "text/plain": [
       "Text(0.5, 1.0, 'wasting with respect to currently_working_mot:\\n--------------------------------------------\\n')"
      ]
     },
     "execution_count": 88,
     "metadata": {},
     "output_type": "execute_result"
    },
    {
     "data": {
      "image/png": "[encoded data removed]",
      "text/plain": [
       "<Figure size 504x360 with 1 Axes>"
      ]
     },
     "metadata": {
      "needs_background": "light"
     },
     "output_type": "display_data"
    }
   ],
   "source": [
    "plt.figure(figsize=(7,5))\n",
    "was_currently_working_mot = sns.barplot(x = 'wasting', y = 'Time', data = was5, hue = 'currently_working_mot')\n",
    "plt.title('wasting with respect to currently_working_mot:\\n--------------------------------------------\\n')"
   ]
  },
  {
   "cell_type": "code",
   "execution_count": 89,
   "metadata": {},
   "outputs": [],
   "source": [
    "# ------------------------------------------------------------------------------------------------------\n",
    "# 7. Probability of having stunning, wasting and underweight respect to wealth index_cat               |\n",
    "# ------------------------------------------------------------------------------------------------------"
   ]
  },
  {
   "cell_type": "code",
   "execution_count": 90,
   "metadata": {},
   "outputs": [],
   "source": [
    "stun6 = df.groupby([\"wealth_index_cat\", \"stunting\"]).size().reset_index(name=\"Time\")"
   ]
  },
  {
   "cell_type": "code",
   "execution_count": 91,
   "metadata": {},
   "outputs": [
    {
     "data": {
      "text/html": [
       "<div>\n",
       "<style scoped>\n",
       "    .dataframe tbody tr th:only-of-type {\n",
       "        vertical-align: middle;\n",
       "    }\n",
       "\n",
       "    .dataframe tbody tr th {\n",
       "        vertical-align: top;\n",
       "    }\n",
       "\n",
       "    .dataframe thead th {\n",
       "        text-align: right;\n",
       "    }\n",
       "</style>\n",
       "<table border=\"1\" class=\"dataframe\">\n",
       "  <thead>\n",
       "    <tr style=\"text-align: right;\">\n",
       "      <th></th>\n",
       "      <th>wealth_index_cat</th>\n",
       "      <th>stunting</th>\n",
       "      <th>Time</th>\n",
       "    </tr>\n",
       "  </thead>\n",
       "  <tbody>\n",
       "    <tr>\n",
       "      <th>0</th>\n",
       "      <td>no</td>\n",
       "      <td>0</td>\n",
       "      <td>1523</td>\n",
       "    </tr>\n",
       "    <tr>\n",
       "      <th>1</th>\n",
       "      <td>no</td>\n",
       "      <td>1</td>\n",
       "      <td>1299</td>\n",
       "    </tr>\n",
       "    <tr>\n",
       "      <th>2</th>\n",
       "      <td>yes</td>\n",
       "      <td>0</td>\n",
       "      <td>2927</td>\n",
       "    </tr>\n",
       "    <tr>\n",
       "      <th>3</th>\n",
       "      <td>yes</td>\n",
       "      <td>1</td>\n",
       "      <td>1216</td>\n",
       "    </tr>\n",
       "  </tbody>\n",
       "</table>\n",
       "</div>"
      ],
      "text/plain": [
       "  wealth_index_cat  stunting  Time\n",
       "0               no         0  1523\n",
       "1               no         1  1299\n",
       "2              yes         0  2927\n",
       "3              yes         1  1216"
      ]
     },
     "execution_count": 91,
     "metadata": {},
     "output_type": "execute_result"
    }
   ],
   "source": [
    "stun6"
   ]
  },
  {
   "cell_type": "code",
   "execution_count": 92,
   "metadata": {},
   "outputs": [
    {
     "name": "stdout",
     "output_type": "stream",
     "text": [
      "wealth_index_cat \"no\", stunting \"no\":  53.96881644223954 %\n",
      "-------------------------------------------------------------\n",
      "wealth_index_cat \"no\", stunting \"yes\":  46.03118355776046 %\n",
      "-------------------------------------------------------------\n",
      "wealth_index_cat \"yes\", stunting \"no\":  70.64928795558774 %\n",
      "-------------------------------------------------------------\n",
      "wealth_index_cat \"yes\", stunting \"yes\":  29.350712044412262 %\n"
     ]
    }
   ],
   "source": [
    "print('wealth_index_cat \"no\", stunting \"no\": ', (1523*100)/2822, '%')\n",
    "print('-------------------------------------------------------------')\n",
    "print('wealth_index_cat \"no\", stunting \"yes\": ', (1299*100)/2822, '%')\n",
    "print('-------------------------------------------------------------')\n",
    "print('wealth_index_cat \"yes\", stunting \"no\": ', (2927*100)/4143, '%')\n",
    "print('-------------------------------------------------------------')\n",
    "print('wealth_index_cat \"yes\", stunting \"yes\": ', (1216*100)/4143, '%')"
   ]
  },
  {
   "cell_type": "code",
   "execution_count": 93,
   "metadata": {},
   "outputs": [
    {
     "data": {
      "text/plain": [
       "Text(0.5, 1.0, 'stunting with respect to wealth_index_cat:\\n--------------------------------------------\\n')"
      ]
     },
     "execution_count": 93,
     "metadata": {},
     "output_type": "execute_result"
    },
    {
     "data": {
      "image/png": "[encoded data removed]",
      "text/plain": [
       "<Figure size 504x360 with 1 Axes>"
      ]
     },
     "metadata": {
      "needs_background": "light"
     },
     "output_type": "display_data"
    }
   ],
   "source": [
    "plt.figure(figsize=(7,5))\n",
    "stun_wealth_index_cat = sns.barplot(x = 'stunting', y = 'Time', data = stun6, hue = 'wealth_index_cat')\n",
    "plt.title('stunting with respect to wealth_index_cat:\\n--------------------------------------------\\n')"
   ]
  },
  {
   "cell_type": "code",
   "execution_count": 94,
   "metadata": {},
   "outputs": [],
   "source": [
    "und6 = df.groupby([\"wealth_index_cat\", \"underweight\"]).size().reset_index(name=\"Time\")"
   ]
  },
  {
   "cell_type": "code",
   "execution_count": 95,
   "metadata": {},
   "outputs": [
    {
     "data": {
      "text/html": [
       "<div>\n",
       "<style scoped>\n",
       "    .dataframe tbody tr th:only-of-type {\n",
       "        vertical-align: middle;\n",
       "    }\n",
       "\n",
       "    .dataframe tbody tr th {\n",
       "        vertical-align: top;\n",
       "    }\n",
       "\n",
       "    .dataframe thead th {\n",
       "        text-align: right;\n",
       "    }\n",
       "</style>\n",
       "<table border=\"1\" class=\"dataframe\">\n",
       "  <thead>\n",
       "    <tr style=\"text-align: right;\">\n",
       "      <th></th>\n",
       "      <th>wealth_index_cat</th>\n",
       "      <th>underweight</th>\n",
       "      <th>Time</th>\n",
       "    </tr>\n",
       "  </thead>\n",
       "  <tbody>\n",
       "    <tr>\n",
       "      <th>0</th>\n",
       "      <td>no</td>\n",
       "      <td>0</td>\n",
       "      <td>1636</td>\n",
       "    </tr>\n",
       "    <tr>\n",
       "      <th>1</th>\n",
       "      <td>no</td>\n",
       "      <td>1</td>\n",
       "      <td>1186</td>\n",
       "    </tr>\n",
       "    <tr>\n",
       "      <th>2</th>\n",
       "      <td>yes</td>\n",
       "      <td>0</td>\n",
       "      <td>3091</td>\n",
       "    </tr>\n",
       "    <tr>\n",
       "      <th>3</th>\n",
       "      <td>yes</td>\n",
       "      <td>1</td>\n",
       "      <td>1052</td>\n",
       "    </tr>\n",
       "  </tbody>\n",
       "</table>\n",
       "</div>"
      ],
      "text/plain": [
       "  wealth_index_cat  underweight  Time\n",
       "0               no            0  1636\n",
       "1               no            1  1186\n",
       "2              yes            0  3091\n",
       "3              yes            1  1052"
      ]
     },
     "execution_count": 95,
     "metadata": {},
     "output_type": "execute_result"
    }
   ],
   "source": [
    "und6"
   ]
  },
  {
   "cell_type": "code",
   "execution_count": 96,
   "metadata": {},
   "outputs": [
    {
     "name": "stdout",
     "output_type": "stream",
     "text": [
      "wealth_index_cat \"no\", underweight \"no\":  57.973068745570515 %\n",
      "-------------------------------------------------------------\n",
      "wealth_index_cat \"no\", underweight \"yes\":  42.026931254429485 %\n",
      "-------------------------------------------------------------\n",
      "wealth_index_cat \"yes\", underweight \"no\":  74.60777214578808 %\n",
      "-------------------------------------------------------------\n",
      "wealth_index_cat \"yes\", underweight \"yes\":  25.392227854211924 %\n"
     ]
    }
   ],
   "source": [
    "print('wealth_index_cat \"no\", underweight \"no\": ', (1636*100)/2822, '%')\n",
    "print('-------------------------------------------------------------')\n",
    "print('wealth_index_cat \"no\", underweight \"yes\": ', (1186*100)/2822, '%')\n",
    "print('-------------------------------------------------------------')\n",
    "print('wealth_index_cat \"yes\", underweight \"no\": ', (3091*100)/4143, '%')\n",
    "print('-------------------------------------------------------------')\n",
    "print('wealth_index_cat \"yes\", underweight \"yes\": ', (1052*100)/4143, '%')"
   ]
  },
  {
   "cell_type": "code",
   "execution_count": 97,
   "metadata": {},
   "outputs": [
    {
     "data": {
      "text/plain": [
       "Text(0.5, 1.0, 'underweight with respect to wealth_index_cat:\\n--------------------------------------------\\n')"
      ]
     },
     "execution_count": 97,
     "metadata": {},
     "output_type": "execute_result"
    },
    {
     "data": {
      "image/png": "[encoded data removed]",
      "text/plain": [
       "<Figure size 504x360 with 1 Axes>"
      ]
     },
     "metadata": {
      "needs_background": "light"
     },
     "output_type": "display_data"
    }
   ],
   "source": [
    "plt.figure(figsize=(7,5))\n",
    "und_wealth_index_cat = sns.barplot(x = 'underweight', y = 'Time', data = und6, hue = 'wealth_index_cat')\n",
    "plt.title('underweight with respect to wealth_index_cat:\\n--------------------------------------------\\n')"
   ]
  },
  {
   "cell_type": "code",
   "execution_count": 98,
   "metadata": {},
   "outputs": [],
   "source": [
    "was6 = df.groupby([\"wealth_index_cat\", \"wasting\"]).size().reset_index(name=\"Time\")"
   ]
  },
  {
   "cell_type": "code",
   "execution_count": 99,
   "metadata": {},
   "outputs": [
    {
     "data": {
      "text/html": [
       "<div>\n",
       "<style scoped>\n",
       "    .dataframe tbody tr th:only-of-type {\n",
       "        vertical-align: middle;\n",
       "    }\n",
       "\n",
       "    .dataframe tbody tr th {\n",
       "        vertical-align: top;\n",
       "    }\n",
       "\n",
       "    .dataframe thead th {\n",
       "        text-align: right;\n",
       "    }\n",
       "</style>\n",
       "<table border=\"1\" class=\"dataframe\">\n",
       "  <thead>\n",
       "    <tr style=\"text-align: right;\">\n",
       "      <th></th>\n",
       "      <th>wealth_index_cat</th>\n",
       "      <th>wasting</th>\n",
       "      <th>Time</th>\n",
       "    </tr>\n",
       "  </thead>\n",
       "  <tbody>\n",
       "    <tr>\n",
       "      <th>0</th>\n",
       "      <td>no</td>\n",
       "      <td>0</td>\n",
       "      <td>2336</td>\n",
       "    </tr>\n",
       "    <tr>\n",
       "      <th>1</th>\n",
       "      <td>no</td>\n",
       "      <td>1</td>\n",
       "      <td>486</td>\n",
       "    </tr>\n",
       "    <tr>\n",
       "      <th>2</th>\n",
       "      <td>yes</td>\n",
       "      <td>0</td>\n",
       "      <td>3642</td>\n",
       "    </tr>\n",
       "    <tr>\n",
       "      <th>3</th>\n",
       "      <td>yes</td>\n",
       "      <td>1</td>\n",
       "      <td>501</td>\n",
       "    </tr>\n",
       "  </tbody>\n",
       "</table>\n",
       "</div>"
      ],
      "text/plain": [
       "  wealth_index_cat  wasting  Time\n",
       "0               no        0  2336\n",
       "1               no        1   486\n",
       "2              yes        0  3642\n",
       "3              yes        1   501"
      ]
     },
     "execution_count": 99,
     "metadata": {},
     "output_type": "execute_result"
    }
   ],
   "source": [
    "was6"
   ]
  },
  {
   "cell_type": "code",
   "execution_count": 100,
   "metadata": {},
   "outputs": [
    {
     "name": "stdout",
     "output_type": "stream",
     "text": [
      "wealth_index_cat \"no\", wasting \"no\":  82.77817150956768 %\n",
      "-------------------------------------------------------------\n",
      "wealth_index_cat \"no\", wasting \"yes\":  17.22182849043232 %\n",
      "-------------------------------------------------------------\n",
      "wealth_index_cat \"yes\", wasting \"no\":  87.90731354091238 %\n",
      "-------------------------------------------------------------\n",
      "wealth_index_cat \"yes\", wasting \"yes\":  12.092686459087618 %\n"
     ]
    }
   ],
   "source": [
    "print('wealth_index_cat \"no\", wasting \"no\": ', (2336*100)/2822, '%')\n",
    "print('-------------------------------------------------------------')\n",
    "print('wealth_index_cat \"no\", wasting \"yes\": ', (486*100)/2822, '%')\n",
    "print('-------------------------------------------------------------')\n",
    "print('wealth_index_cat \"yes\", wasting \"no\": ', (3642*100)/4143, '%')\n",
    "print('-------------------------------------------------------------')\n",
    "print('wealth_index_cat \"yes\", wasting \"yes\": ', (501*100)/4143, '%')"
   ]
  },
  {
   "cell_type": "code",
   "execution_count": 101,
   "metadata": {},
   "outputs": [
    {
     "data": {
      "text/plain": [
       "Text(0.5, 1.0, 'wasting with respect to wealth_index_cat:\\n--------------------------------------------\\n')"
      ]
     },
     "execution_count": 101,
     "metadata": {},
     "output_type": "execute_result"
    },
    {
     "data": {
      "image/png": "[encoded data removed]",
      "text/plain": [
       "<Figure size 504x360 with 1 Axes>"
      ]
     },
     "metadata": {
      "needs_background": "light"
     },
     "output_type": "display_data"
    }
   ],
   "source": [
    "plt.figure(figsize=(7,5))\n",
    "was_wealth_index_cat = sns.barplot(x = 'wasting', y = 'Time', data = was6, hue = 'wealth_index_cat')\n",
    "plt.title('wasting with respect to wealth_index_cat:\\n--------------------------------------------\\n')"
   ]
  },
  {
   "cell_type": "code",
   "execution_count": 102,
   "metadata": {},
   "outputs": [],
   "source": [
    "# ------------------------------------------------------------------------------------------------------\n",
    "# 8. Percentage of having stunning, wasting and underweight respect to child age      ( don't need )    |\n",
    "# ------------------------------------------------------------------------------------------------------"
   ]
  },
  {
   "cell_type": "code",
   "execution_count": 103,
   "metadata": {},
   "outputs": [],
   "source": [
    "# ------------------------------------------------------------------------------------------------------\n",
    "# 10. Percentage of being stunning, wasting and underweight from different division like Dhaka, Khulna, Jessore, Chittagong etc.   |\n",
    "# ------------------------------------------------------------------------------------------------------"
   ]
  },
  {
   "cell_type": "code",
   "execution_count": 104,
   "metadata": {},
   "outputs": [],
   "source": [
    "stun9 = df.groupby([\"Division\", \"stunting\"]).size().reset_index(name=\"Time\")"
   ]
  },
  {
   "cell_type": "code",
   "execution_count": 105,
   "metadata": {},
   "outputs": [
    {
     "data": {
      "text/html": [
       "<div>\n",
       "<style scoped>\n",
       "    .dataframe tbody tr th:only-of-type {\n",
       "        vertical-align: middle;\n",
       "    }\n",
       "\n",
       "    .dataframe tbody tr th {\n",
       "        vertical-align: top;\n",
       "    }\n",
       "\n",
       "    .dataframe thead th {\n",
       "        text-align: right;\n",
       "    }\n",
       "</style>\n",
       "<table border=\"1\" class=\"dataframe\">\n",
       "  <thead>\n",
       "    <tr style=\"text-align: right;\">\n",
       "      <th></th>\n",
       "      <th>Division</th>\n",
       "      <th>stunting</th>\n",
       "      <th>Time</th>\n",
       "    </tr>\n",
       "  </thead>\n",
       "  <tbody>\n",
       "    <tr>\n",
       "      <th>0</th>\n",
       "      <td>Rajshahi</td>\n",
       "      <td>0</td>\n",
       "      <td>613</td>\n",
       "    </tr>\n",
       "    <tr>\n",
       "      <th>1</th>\n",
       "      <td>Rajshahi</td>\n",
       "      <td>1</td>\n",
       "      <td>262</td>\n",
       "    </tr>\n",
       "    <tr>\n",
       "      <th>2</th>\n",
       "      <td>Rangpur</td>\n",
       "      <td>0</td>\n",
       "      <td>567</td>\n",
       "    </tr>\n",
       "    <tr>\n",
       "      <th>3</th>\n",
       "      <td>Rangpur</td>\n",
       "      <td>1</td>\n",
       "      <td>298</td>\n",
       "    </tr>\n",
       "    <tr>\n",
       "      <th>4</th>\n",
       "      <td>barisal</td>\n",
       "      <td>0</td>\n",
       "      <td>506</td>\n",
       "    </tr>\n",
       "    <tr>\n",
       "      <th>5</th>\n",
       "      <td>barisal</td>\n",
       "      <td>1</td>\n",
       "      <td>306</td>\n",
       "    </tr>\n",
       "    <tr>\n",
       "      <th>6</th>\n",
       "      <td>chittagong</td>\n",
       "      <td>0</td>\n",
       "      <td>827</td>\n",
       "    </tr>\n",
       "    <tr>\n",
       "      <th>7</th>\n",
       "      <td>chittagong</td>\n",
       "      <td>1</td>\n",
       "      <td>493</td>\n",
       "    </tr>\n",
       "    <tr>\n",
       "      <th>8</th>\n",
       "      <td>dhaka</td>\n",
       "      <td>0</td>\n",
       "      <td>817</td>\n",
       "    </tr>\n",
       "    <tr>\n",
       "      <th>9</th>\n",
       "      <td>dhaka</td>\n",
       "      <td>1</td>\n",
       "      <td>396</td>\n",
       "    </tr>\n",
       "    <tr>\n",
       "      <th>10</th>\n",
       "      <td>khulna</td>\n",
       "      <td>0</td>\n",
       "      <td>557</td>\n",
       "    </tr>\n",
       "    <tr>\n",
       "      <th>11</th>\n",
       "      <td>khulna</td>\n",
       "      <td>1</td>\n",
       "      <td>217</td>\n",
       "    </tr>\n",
       "    <tr>\n",
       "      <th>12</th>\n",
       "      <td>sylhet</td>\n",
       "      <td>0</td>\n",
       "      <td>563</td>\n",
       "    </tr>\n",
       "    <tr>\n",
       "      <th>13</th>\n",
       "      <td>sylhet</td>\n",
       "      <td>1</td>\n",
       "      <td>543</td>\n",
       "    </tr>\n",
       "  </tbody>\n",
       "</table>\n",
       "</div>"
      ],
      "text/plain": [
       "      Division  stunting  Time\n",
       "0     Rajshahi         0   613\n",
       "1     Rajshahi         1   262\n",
       "2      Rangpur         0   567\n",
       "3      Rangpur         1   298\n",
       "4      barisal         0   506\n",
       "5      barisal         1   306\n",
       "6   chittagong         0   827\n",
       "7   chittagong         1   493\n",
       "8        dhaka         0   817\n",
       "9        dhaka         1   396\n",
       "10      khulna         0   557\n",
       "11      khulna         1   217\n",
       "12      sylhet         0   563\n",
       "13      sylhet         1   543"
      ]
     },
     "execution_count": 105,
     "metadata": {},
     "output_type": "execute_result"
    }
   ],
   "source": [
    "stun9"
   ]
  },
  {
   "cell_type": "code",
   "execution_count": 106,
   "metadata": {},
   "outputs": [
    {
     "name": "stdout",
     "output_type": "stream",
     "text": [
      "Rajshahi, stunting \"no\":  70.05714285714286 %\n",
      "-------------------------------------------------------------\n",
      "Rajshahi, stunting \"yes\":  29.942857142857143 %\n",
      "-------------------------------------------------------------\n",
      "Rangpur, stunting \"no\":  65.54913294797687 %\n",
      "-------------------------------------------------------------\n",
      "Rangpur, stunting \"yes\":  34.45086705202312 %\n",
      "-------------------------------------------------------------\n",
      "barisal, stunting \"no\":  62.31527093596059 %\n",
      "-------------------------------------------------------------\n",
      "barisal, stunting \"yes\":  37.68472906403941 %\n",
      "-------------------------------------------------------------\n",
      "chittagong, stunting \"no\":  63.12977099236641 %\n",
      "-------------------------------------------------------------\n",
      "chittagong, stunting \"yes\":  37.63358778625954 %\n",
      "-------------------------------------------------------------\n",
      "dhaka, stunting \"no\":  67.35366859027205 %\n",
      "-------------------------------------------------------------\n",
      "dhaka, stunting \"yes\":  32.64633140972795 %\n",
      "-------------------------------------------------------------\n",
      "khulna, stunting \"no\":  71.96382428940568 %\n",
      "-------------------------------------------------------------\n",
      "khulna, stunting \"yes\":  28.036175710594314 %\n",
      "-------------------------------------------------------------\n",
      "sylhet, stunting \"no\":  50.90415913200723 %\n",
      "-------------------------------------------------------------\n",
      "sylhet, stunting \"yes\":  49.09584086799277 %\n",
      "-------------------------------------------------------------\n"
     ]
    }
   ],
   "source": [
    "print('Rajshahi, stunting \"no\": ', (613*100)/875, '%')\n",
    "print('-------------------------------------------------------------')\n",
    "print('Rajshahi, stunting \"yes\": ', (262*100)/875, '%')\n",
    "print('-------------------------------------------------------------')\n",
    "print('Rangpur, stunting \"no\": ', (567*100)/865, '%')\n",
    "print('-------------------------------------------------------------')\n",
    "print('Rangpur, stunting \"yes\": ', (298*100)/865, '%')\n",
    "print('-------------------------------------------------------------')\n",
    "print('barisal, stunting \"no\": ', (506*100)/812, '%')\n",
    "print('-------------------------------------------------------------')\n",
    "print('barisal, stunting \"yes\": ', (306*100)/812, '%')\n",
    "print('-------------------------------------------------------------')\n",
    "print('chittagong, stunting \"no\": ', (827*100)/1310, '%')\n",
    "print('-------------------------------------------------------------')\n",
    "print('chittagong, stunting \"yes\": ', (493*100)/1310, '%')\n",
    "print('-------------------------------------------------------------')\n",
    "print('dhaka, stunting \"no\": ', (817*100)/1213, '%')\n",
    "print('-------------------------------------------------------------')\n",
    "print('dhaka, stunting \"yes\": ', (396*100)/1213, '%')\n",
    "print('-------------------------------------------------------------')\n",
    "print('khulna, stunting \"no\": ', (557*100)/774, '%')\n",
    "print('-------------------------------------------------------------')\n",
    "print('khulna, stunting \"yes\": ', (217*100)/774, '%')\n",
    "print('-------------------------------------------------------------')\n",
    "print('sylhet, stunting \"no\": ', (563*100)/1106, '%')\n",
    "print('-------------------------------------------------------------')\n",
    "print('sylhet, stunting \"yes\": ', (543*100)/1106, '%')\n",
    "print('-------------------------------------------------------------')"
   ]
  },
  {
   "cell_type": "code",
   "execution_count": 108,
   "metadata": {},
   "outputs": [
    {
     "data": {
      "text/plain": [
       "Text(0.5, 1.0, 'stunting with respect to Division:\\n--------------------------------------------\\n')"
      ]
     },
     "execution_count": 108,
     "metadata": {},
     "output_type": "execute_result"
    },
    {
     "data": {
      "image/png": "[encoded data removed]",
      "text/plain": [
       "<Figure size 864x576 with 1 Axes>"
      ]
     },
     "metadata": {
      "needs_background": "light"
     },
     "output_type": "display_data"
    }
   ],
   "source": [
    "plt.figure(figsize=(12,8))\n",
    "stun_division = sns.barplot(x = 'stunting', y = 'Time', data = stun9, hue = 'Division')\n",
    "plt.title('stunting with respect to Division:\\n--------------------------------------------\\n')"
   ]
  },
  {
   "cell_type": "code",
   "execution_count": 109,
   "metadata": {},
   "outputs": [],
   "source": [
    "und9 = df.groupby([\"Division\", \"underweight\"]).size().reset_index(name=\"Time\")"
   ]
  },
  {
   "cell_type": "code",
   "execution_count": 110,
   "metadata": {},
   "outputs": [
    {
     "data": {
      "text/html": [
       "<div>\n",
       "<style scoped>\n",
       "    .dataframe tbody tr th:only-of-type {\n",
       "        vertical-align: middle;\n",
       "    }\n",
       "\n",
       "    .dataframe tbody tr th {\n",
       "        vertical-align: top;\n",
       "    }\n",
       "\n",
       "    .dataframe thead th {\n",
       "        text-align: right;\n",
       "    }\n",
       "</style>\n",
       "<table border=\"1\" class=\"dataframe\">\n",
       "  <thead>\n",
       "    <tr style=\"text-align: right;\">\n",
       "      <th></th>\n",
       "      <th>Division</th>\n",
       "      <th>underweight</th>\n",
       "      <th>Time</th>\n",
       "    </tr>\n",
       "  </thead>\n",
       "  <tbody>\n",
       "    <tr>\n",
       "      <th>0</th>\n",
       "      <td>Rajshahi</td>\n",
       "      <td>0</td>\n",
       "      <td>600</td>\n",
       "    </tr>\n",
       "    <tr>\n",
       "      <th>1</th>\n",
       "      <td>Rajshahi</td>\n",
       "      <td>1</td>\n",
       "      <td>275</td>\n",
       "    </tr>\n",
       "    <tr>\n",
       "      <th>2</th>\n",
       "      <td>Rangpur</td>\n",
       "      <td>0</td>\n",
       "      <td>585</td>\n",
       "    </tr>\n",
       "    <tr>\n",
       "      <th>3</th>\n",
       "      <td>Rangpur</td>\n",
       "      <td>1</td>\n",
       "      <td>280</td>\n",
       "    </tr>\n",
       "    <tr>\n",
       "      <th>4</th>\n",
       "      <td>barisal</td>\n",
       "      <td>0</td>\n",
       "      <td>543</td>\n",
       "    </tr>\n",
       "    <tr>\n",
       "      <th>5</th>\n",
       "      <td>barisal</td>\n",
       "      <td>1</td>\n",
       "      <td>269</td>\n",
       "    </tr>\n",
       "    <tr>\n",
       "      <th>6</th>\n",
       "      <td>chittagong</td>\n",
       "      <td>0</td>\n",
       "      <td>878</td>\n",
       "    </tr>\n",
       "    <tr>\n",
       "      <th>7</th>\n",
       "      <td>chittagong</td>\n",
       "      <td>1</td>\n",
       "      <td>442</td>\n",
       "    </tr>\n",
       "    <tr>\n",
       "      <th>8</th>\n",
       "      <td>dhaka</td>\n",
       "      <td>0</td>\n",
       "      <td>881</td>\n",
       "    </tr>\n",
       "    <tr>\n",
       "      <th>9</th>\n",
       "      <td>dhaka</td>\n",
       "      <td>1</td>\n",
       "      <td>332</td>\n",
       "    </tr>\n",
       "    <tr>\n",
       "      <th>10</th>\n",
       "      <td>khulna</td>\n",
       "      <td>0</td>\n",
       "      <td>570</td>\n",
       "    </tr>\n",
       "    <tr>\n",
       "      <th>11</th>\n",
       "      <td>khulna</td>\n",
       "      <td>1</td>\n",
       "      <td>204</td>\n",
       "    </tr>\n",
       "    <tr>\n",
       "      <th>12</th>\n",
       "      <td>sylhet</td>\n",
       "      <td>0</td>\n",
       "      <td>670</td>\n",
       "    </tr>\n",
       "    <tr>\n",
       "      <th>13</th>\n",
       "      <td>sylhet</td>\n",
       "      <td>1</td>\n",
       "      <td>436</td>\n",
       "    </tr>\n",
       "  </tbody>\n",
       "</table>\n",
       "</div>"
      ],
      "text/plain": [
       "      Division  underweight  Time\n",
       "0     Rajshahi            0   600\n",
       "1     Rajshahi            1   275\n",
       "2      Rangpur            0   585\n",
       "3      Rangpur            1   280\n",
       "4      barisal            0   543\n",
       "5      barisal            1   269\n",
       "6   chittagong            0   878\n",
       "7   chittagong            1   442\n",
       "8        dhaka            0   881\n",
       "9        dhaka            1   332\n",
       "10      khulna            0   570\n",
       "11      khulna            1   204\n",
       "12      sylhet            0   670\n",
       "13      sylhet            1   436"
      ]
     },
     "execution_count": 110,
     "metadata": {},
     "output_type": "execute_result"
    }
   ],
   "source": [
    "und9"
   ]
  },
  {
   "cell_type": "code",
   "execution_count": 111,
   "metadata": {},
   "outputs": [
    {
     "name": "stdout",
     "output_type": "stream",
     "text": [
      "Rajshahi, underweight \"no\":  68.57142857142857 %\n",
      "-------------------------------------------------------------\n",
      "Rajshahi, underweight \"yes\":  31.428571428571427 %\n",
      "-------------------------------------------------------------\n",
      "Rangpur, underweight \"no\":  67.6300578034682 %\n",
      "-------------------------------------------------------------\n",
      "Rangpur, underweight \"yes\":  32.369942196531795 %\n",
      "-------------------------------------------------------------\n",
      "barisal, underweight \"no\":  66.87192118226601 %\n",
      "-------------------------------------------------------------\n",
      "barisal, underweight \"yes\":  33.12807881773399 %\n",
      "-------------------------------------------------------------\n",
      "chittagong, underweight \"no\":  67.02290076335878 %\n",
      "-------------------------------------------------------------\n",
      "chittagong, underweight \"yes\":  33.74045801526717 %\n",
      "-------------------------------------------------------------\n",
      "dhaka, underweight \"no\":  72.62984336356142 %\n",
      "-------------------------------------------------------------\n",
      "dhaka, underweight \"yes\":  27.370156636438583 %\n",
      "-------------------------------------------------------------\n",
      "khulna, underweight \"no\":  73.64341085271317 %\n",
      "-------------------------------------------------------------\n",
      "khulna, underweight \"yes\":  26.356589147286822 %\n",
      "-------------------------------------------------------------\n",
      "sylhet, underweight \"no\":  60.57866184448463 %\n",
      "-------------------------------------------------------------\n",
      "sylhet, underweight \"yes\":  39.42133815551537 %\n",
      "-------------------------------------------------------------\n"
     ]
    }
   ],
   "source": [
    "print('Rajshahi, underweight \"no\": ', (600*100)/875, '%')\n",
    "print('-------------------------------------------------------------')\n",
    "print('Rajshahi, underweight \"yes\": ', (275*100)/875, '%')\n",
    "print('-------------------------------------------------------------')\n",
    "print('Rangpur, underweight \"no\": ', (585*100)/865, '%')\n",
    "print('-------------------------------------------------------------')\n",
    "print('Rangpur, underweight \"yes\": ', (280*100)/865, '%')\n",
    "print('-------------------------------------------------------------')\n",
    "print('barisal, underweight \"no\": ', (543*100)/812, '%')\n",
    "print('-------------------------------------------------------------')\n",
    "print('barisal, underweight \"yes\": ', (269*100)/812, '%')\n",
    "print('-------------------------------------------------------------')\n",
    "print('chittagong, underweight \"no\": ', (878*100)/1310, '%')\n",
    "print('-------------------------------------------------------------')\n",
    "print('chittagong, underweight \"yes\": ', (442*100)/1310, '%')\n",
    "print('-------------------------------------------------------------')\n",
    "print('dhaka, underweight \"no\": ', (881*100)/1213, '%')\n",
    "print('-------------------------------------------------------------')\n",
    "print('dhaka, underweight \"yes\": ', (332*100)/1213, '%')\n",
    "print('-------------------------------------------------------------')\n",
    "print('khulna, underweight \"no\": ', (570*100)/774, '%')\n",
    "print('-------------------------------------------------------------')\n",
    "print('khulna, underweight \"yes\": ', (204*100)/774, '%')\n",
    "print('-------------------------------------------------------------')\n",
    "print('sylhet, underweight \"no\": ', (670*100)/1106, '%')\n",
    "print('-------------------------------------------------------------')\n",
    "print('sylhet, underweight \"yes\": ', (436*100)/1106, '%')\n",
    "print('-------------------------------------------------------------')"
   ]
  },
  {
   "cell_type": "code",
   "execution_count": 112,
   "metadata": {},
   "outputs": [
    {
     "data": {
      "text/plain": [
       "Text(0.5, 1.0, 'underweight with respect to Division:\\n--------------------------------------------\\n')"
      ]
     },
     "execution_count": 112,
     "metadata": {},
     "output_type": "execute_result"
    },
    {
     "data": {
      "image/png": "[encoded data removed]",
      "text/plain": [
       "<Figure size 504x432 with 1 Axes>"
      ]
     },
     "metadata": {
      "needs_background": "light"
     },
     "output_type": "display_data"
    }
   ],
   "source": [
    "plt.figure(figsize=(7,6))\n",
    "und_division = sns.barplot(x = 'underweight', y = 'Time', data = und9, hue = 'Division')\n",
    "plt.title('underweight with respect to Division:\\n--------------------------------------------\\n')"
   ]
  },
  {
   "cell_type": "code",
   "execution_count": 113,
   "metadata": {},
   "outputs": [],
   "source": [
    "was9 = df.groupby([\"Division\", \"wasting\"]).size().reset_index(name=\"Time\")"
   ]
  },
  {
   "cell_type": "code",
   "execution_count": 114,
   "metadata": {},
   "outputs": [
    {
     "data": {
      "text/html": [
       "<div>\n",
       "<style scoped>\n",
       "    .dataframe tbody tr th:only-of-type {\n",
       "        vertical-align: middle;\n",
       "    }\n",
       "\n",
       "    .dataframe tbody tr th {\n",
       "        vertical-align: top;\n",
       "    }\n",
       "\n",
       "    .dataframe thead th {\n",
       "        text-align: right;\n",
       "    }\n",
       "</style>\n",
       "<table border=\"1\" class=\"dataframe\">\n",
       "  <thead>\n",
       "    <tr style=\"text-align: right;\">\n",
       "      <th></th>\n",
       "      <th>Division</th>\n",
       "      <th>wasting</th>\n",
       "      <th>Time</th>\n",
       "    </tr>\n",
       "  </thead>\n",
       "  <tbody>\n",
       "    <tr>\n",
       "      <th>0</th>\n",
       "      <td>Rajshahi</td>\n",
       "      <td>0</td>\n",
       "      <td>729</td>\n",
       "    </tr>\n",
       "    <tr>\n",
       "      <th>1</th>\n",
       "      <td>Rajshahi</td>\n",
       "      <td>1</td>\n",
       "      <td>146</td>\n",
       "    </tr>\n",
       "    <tr>\n",
       "      <th>2</th>\n",
       "      <td>Rangpur</td>\n",
       "      <td>0</td>\n",
       "      <td>728</td>\n",
       "    </tr>\n",
       "    <tr>\n",
       "      <th>3</th>\n",
       "      <td>Rangpur</td>\n",
       "      <td>1</td>\n",
       "      <td>137</td>\n",
       "    </tr>\n",
       "    <tr>\n",
       "      <th>4</th>\n",
       "      <td>barisal</td>\n",
       "      <td>0</td>\n",
       "      <td>674</td>\n",
       "    </tr>\n",
       "    <tr>\n",
       "      <th>5</th>\n",
       "      <td>barisal</td>\n",
       "      <td>1</td>\n",
       "      <td>138</td>\n",
       "    </tr>\n",
       "    <tr>\n",
       "      <th>6</th>\n",
       "      <td>chittagong</td>\n",
       "      <td>0</td>\n",
       "      <td>1130</td>\n",
       "    </tr>\n",
       "    <tr>\n",
       "      <th>7</th>\n",
       "      <td>chittagong</td>\n",
       "      <td>1</td>\n",
       "      <td>190</td>\n",
       "    </tr>\n",
       "    <tr>\n",
       "      <th>8</th>\n",
       "      <td>dhaka</td>\n",
       "      <td>0</td>\n",
       "      <td>1067</td>\n",
       "    </tr>\n",
       "    <tr>\n",
       "      <th>9</th>\n",
       "      <td>dhaka</td>\n",
       "      <td>1</td>\n",
       "      <td>146</td>\n",
       "    </tr>\n",
       "    <tr>\n",
       "      <th>10</th>\n",
       "      <td>khulna</td>\n",
       "      <td>0</td>\n",
       "      <td>672</td>\n",
       "    </tr>\n",
       "    <tr>\n",
       "      <th>11</th>\n",
       "      <td>khulna</td>\n",
       "      <td>1</td>\n",
       "      <td>102</td>\n",
       "    </tr>\n",
       "    <tr>\n",
       "      <th>12</th>\n",
       "      <td>sylhet</td>\n",
       "      <td>0</td>\n",
       "      <td>978</td>\n",
       "    </tr>\n",
       "    <tr>\n",
       "      <th>13</th>\n",
       "      <td>sylhet</td>\n",
       "      <td>1</td>\n",
       "      <td>128</td>\n",
       "    </tr>\n",
       "  </tbody>\n",
       "</table>\n",
       "</div>"
      ],
      "text/plain": [
       "      Division  wasting  Time\n",
       "0     Rajshahi        0   729\n",
       "1     Rajshahi        1   146\n",
       "2      Rangpur        0   728\n",
       "3      Rangpur        1   137\n",
       "4      barisal        0   674\n",
       "5      barisal        1   138\n",
       "6   chittagong        0  1130\n",
       "7   chittagong        1   190\n",
       "8        dhaka        0  1067\n",
       "9        dhaka        1   146\n",
       "10      khulna        0   672\n",
       "11      khulna        1   102\n",
       "12      sylhet        0   978\n",
       "13      sylhet        1   128"
      ]
     },
     "execution_count": 114,
     "metadata": {},
     "output_type": "execute_result"
    }
   ],
   "source": [
    "was9"
   ]
  },
  {
   "cell_type": "code",
   "execution_count": 115,
   "metadata": {},
   "outputs": [
    {
     "name": "stdout",
     "output_type": "stream",
     "text": [
      "Rajshahi, wasting \"no\":  83.31428571428572 %\n",
      "-------------------------------------------------------------\n",
      "Rajshahi, wasting \"yes\":  16.685714285714287 %\n",
      "-------------------------------------------------------------\n",
      "Rangpur, wasting \"no\":  84.16184971098266 %\n",
      "-------------------------------------------------------------\n",
      "Rangpur, wasting \"yes\":  15.83815028901734 %\n",
      "-------------------------------------------------------------\n",
      "barisal, wasting \"no\":  83.00492610837438 %\n",
      "-------------------------------------------------------------\n",
      "barisal, wasting \"yes\":  16.995073891625616 %\n",
      "-------------------------------------------------------------\n",
      "chittagong, wasting \"no\":  86.25954198473282 %\n",
      "-------------------------------------------------------------\n",
      "chittagong, wasting \"yes\":  14.50381679389313 %\n",
      "-------------------------------------------------------------\n",
      "dhaka, wasting \"no\":  87.96372629843364 %\n",
      "-------------------------------------------------------------\n",
      "dhaka, wasting \"yes\":  12.036273701566364 %\n",
      "-------------------------------------------------------------\n",
      "khulna, wasting \"no\":  86.82170542635659 %\n",
      "-------------------------------------------------------------\n",
      "khulna, wasting \"yes\":  13.178294573643411 %\n",
      "-------------------------------------------------------------\n",
      "sylhet, wasting \"no\":  88.42676311030742 %\n",
      "-------------------------------------------------------------\n",
      "sylhet, wasting \"yes\":  11.573236889692586 %\n",
      "-------------------------------------------------------------\n"
     ]
    }
   ],
   "source": [
    "print('Rajshahi, wasting \"no\": ', (729*100)/875, '%')\n",
    "print('-------------------------------------------------------------')\n",
    "print('Rajshahi, wasting \"yes\": ', (146*100)/875, '%')\n",
    "print('-------------------------------------------------------------')\n",
    "print('Rangpur, wasting \"no\": ', (728*100)/865, '%')\n",
    "print('-------------------------------------------------------------')\n",
    "print('Rangpur, wasting \"yes\": ', (137*100)/865, '%')\n",
    "print('-------------------------------------------------------------')\n",
    "print('barisal, wasting \"no\": ', (674*100)/812, '%')\n",
    "print('-------------------------------------------------------------')\n",
    "print('barisal, wasting \"yes\": ', (138*100)/812, '%')\n",
    "print('-------------------------------------------------------------')\n",
    "print('chittagong, wasting \"no\": ', (1130*100)/1310, '%')\n",
    "print('-------------------------------------------------------------')\n",
    "print('chittagong, wasting \"yes\": ', (190*100)/1310, '%')\n",
    "print('-------------------------------------------------------------')\n",
    "print('dhaka, wasting \"no\": ', (1067*100)/1213, '%')\n",
    "print('-------------------------------------------------------------')\n",
    "print('dhaka, wasting \"yes\": ', (146*100)/1213, '%')\n",
    "print('-------------------------------------------------------------')\n",
    "print('khulna, wasting \"no\": ', (672*100)/774, '%')\n",
    "print('-------------------------------------------------------------')\n",
    "print('khulna, wasting \"yes\": ', (102*100)/774, '%')\n",
    "print('-------------------------------------------------------------')\n",
    "print('sylhet, wasting \"no\": ', (978*100)/1106, '%')\n",
    "print('-------------------------------------------------------------')\n",
    "print('sylhet, wasting \"yes\": ', (128*100)/1106, '%')\n",
    "print('-------------------------------------------------------------')"
   ]
  },
  {
   "cell_type": "code",
   "execution_count": 116,
   "metadata": {},
   "outputs": [
    {
     "data": {
      "text/plain": [
       "Text(0.5, 1.0, 'wasting with respect to Division:\\n--------------------------------------------\\n')"
      ]
     },
     "execution_count": 116,
     "metadata": {},
     "output_type": "execute_result"
    },
    {
     "data": {
      "image/png": "[encoded data removed]",
      "text/plain": [
       "<Figure size 504x432 with 1 Axes>"
      ]
     },
     "metadata": {
      "needs_background": "light"
     },
     "output_type": "display_data"
    }
   ],
   "source": [
    "plt.figure(figsize=(7,6))\n",
    "was_division = sns.barplot(x = 'wasting', y = 'Time', data = was9, hue = 'Division')\n",
    "plt.title('wasting with respect to Division:\\n--------------------------------------------\\n')"
   ]
  },
  {
   "cell_type": "code",
   "execution_count": null,
   "metadata": {},
   "outputs": [],
   "source": []
  },
  {
   "cell_type": "code",
   "execution_count": null,
   "metadata": {},
   "outputs": [],
   "source": []
  }
 ],
 "metadata": {
  "kernelspec": {
   "display_name": "Python 3",
   "language": "python",
   "name": "python3"
  },
  "language_info": {
   "codemirror_mode": {
    "name": "ipython",
    "version": 3
   },
   "file_extension": ".py",
   "mimetype": "text/x-python",
   "name": "python",
   "nbconvert_exporter": "python",
   "pygments_lexer": "ipython3",
   "version": "3.6.8"
  }
 },
 "nbformat": 4,
 "nbformat_minor": 2
}
